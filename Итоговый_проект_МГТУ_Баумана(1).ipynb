{
 "cells": [
  {
   "cell_type": "markdown",
   "metadata": {
    "id": "2onK_gKw8uFp"
   },
   "source": [
    "<h1>Задача «Классификация агрокультур на основе изменения показателя вегетационных индексов во временной последовательности»"
   ]
  },
  {
   "cell_type": "markdown",
   "metadata": {
    "id": "3Gu76QIE8-99"
   },
   "source": [
    "<H2>Условие задачи"
   ]
  },
  {
   "cell_type": "markdown",
   "metadata": {
    "id": "U9SpAXXN9Da5"
   },
   "source": [
    "Перед участниками чемпионата стоит\n",
    "задача\n",
    "классификации\n",
    "агрокультур на основе изменения показателя вегетационных индексов во\n",
    "временной последовательности. Созданная за время чемпионата модель\n",
    "поможет оптимизировать рабочие процессы в сфере сельского хозяйства,\n",
    "обеспечить\n",
    "органы\n",
    "власти\n",
    "актуальными\n",
    "и\n",
    "достоверными\n",
    "сведениями,\n",
    "увеличить социальный, инвестиционный и производственный потенциал\n",
    "отрасли,\n",
    "а\n",
    "также\n",
    "повысить\n",
    "достоверность\n",
    "и\n",
    "удобство использования\n",
    "информации о сельскохозяйственных объектах."
   ]
  },
  {
   "cell_type": "markdown",
   "metadata": {
    "id": "ApMYRdNc9PUY"
   },
   "source": [
    "<h3>Описание входных значений</h3>\n",
    "\n",
    "● train.csv — файл, содержащий данные о поле и временные ряды\n",
    "\n",
    "● test.csv — файл, содержащий данные для предсказания\n",
    "\n",
    "● sample_solution.csv — пример файла для отправки\n",
    "\n",
    "**Пояснения к столбцам**\n",
    "\n",
    "\n",
    "\n",
    "*   id – идентификатор объекта (поля)\n",
    "*   area – площадь поля в га\n",
    "*   nd mean YYYY-MM-DD – медианное значение вегетационного индекса\n",
    "NDVI для данного поля на указанную дату\n",
    "*   geo – координаты границ поля\n",
    "*   crop – столбец для предсказания, содержит тип произрастающей\n",
    "культуры по данным сельхозтоваропроизводителей\n",
    "\n",
    "**Дополнительно расшифруем типы культур:**\n",
    "\n",
    "0.   подсолнечник\n",
    "1.   картофель\n",
    "2.   пшеница озимая\n",
    "3.   гречиха\n",
    "4.   кукуруза\n",
    "5.   пшеница яровая\n",
    "6.   сахарная свекла\n",
    "\n",
    "**Метрика**\n",
    "\n",
    "В качестве метрики выступает Recall по столбцу crop.\n"
   ]
  },
  {
   "cell_type": "code",
   "execution_count": 1,
   "metadata": {
    "colab": {
     "base_uri": "https://localhost:8080/"
    },
    "id": "mVaXxaWANvOK",
    "outputId": "0f6256ea-94ee-444c-e787-57343fc272d5",
    "scrolled": true
   },
   "outputs": [
    {
     "name": "stdout",
     "output_type": "stream",
     "text": [
      "Requirement already satisfied: xgboost in c:\\users\\ermak\\anaconda3\\lib\\site-packages (1.7.1)\n",
      "Requirement already satisfied: scipy in c:\\users\\ermak\\anaconda3\\lib\\site-packages (from xgboost) (1.7.3)\n",
      "Requirement already satisfied: numpy in c:\\users\\ermak\\anaconda3\\lib\\site-packages (from xgboost) (1.20.3)\n",
      "Note: you may need to restart the kernel to use updated packages.\n"
     ]
    }
   ],
   "source": [
    "pip install xgboost"
   ]
  },
  {
   "cell_type": "code",
   "execution_count": 2,
   "metadata": {
    "id": "5K6gQMXYA5aG"
   },
   "outputs": [],
   "source": [
    "# импорт библиотек\n",
    "import datetime\n",
    "import matplotlib.pyplot as plt\n",
    "import numpy as np\n",
    "import pandas as pd\n",
    "import seaborn as sns\n",
    "import tensorflow as tf\n",
    "import xgboost as xgb\n",
    "\n",
    "\n",
    "from lightgbm import LGBMClassifier\n",
    "from sklearn import preprocessing\n",
    "from sklearn import utils\n",
    "from sklearn.model_selection import train_test_split\n",
    "from sklearn.linear_model import LogisticRegression\n",
    "from sklearn.ensemble import RandomForestClassifier, HistGradientBoostingClassifier\n",
    "from sklearn.preprocessing import StandardScaler\n",
    "from sklearn.model_selection import RandomizedSearchCV, GridSearchCV\n",
    "\n",
    "\n",
    "from sklearn import svm\n",
    "from sklearn.metrics import roc_auc_score, roc_curve, auc, accuracy_score, recall_score, precision_score, confusion_matrix\n",
    "from sklearn.neighbors import KNeighborsClassifier\n",
    "from sklearn.pipeline import make_pipeline\n",
    "\n",
    "\n",
    "#импорт для нейронки\n",
    "from tensorflow import keras\n",
    "from tensorflow.keras import Sequential\n",
    "from tensorflow.keras.layers import Dense, Dropout\n",
    "from tensorflow.keras import utils\n",
    "from tensorflow.keras import layers\n",
    "\n",
    "\n",
    "import warnings\n",
    "from warnings import filterwarnings\n",
    "warnings.filterwarnings('error')\n",
    "filterwarnings(action='ignore', category=DeprecationWarning, message='`np.bool` is a deprecated alias')\n",
    "%matplotlib inline\n",
    "\n",
    "RANDOM_STATE = 12345"
   ]
  },
  {
   "cell_type": "code",
   "execution_count": 3,
   "metadata": {
    "id": "gUP_6OekBN1g"
   },
   "outputs": [],
   "source": [
    "# загрузка датасетов\n",
    "try:\n",
    "    df_train = pd.read_csv(\"/content/train_dataset_train.csv\")\n",
    "    df_test = pd.read_csv(\"/content/test_dataset_test.csv\")\n",
    "except:\n",
    "    df_train = pd.read_csv('D:/Соревнования/Иннополис/Иннополис/train_dataset_train.csv')\n",
    "    df_test = pd.read_csv('D:/Соревнования/Иннополис/Иннополис/test_dataset_test.csv')"
   ]
  },
  {
   "cell_type": "code",
   "execution_count": 4,
   "metadata": {
    "id": "BZbMcFfVB1qa"
   },
   "outputs": [],
   "source": [
    "# функция на первичную проверку данных\n",
    "def df_check(dataset):\n",
    "    print('Общая информация\\n')\n",
    "    display(dataset.info())\n",
    "    print('Первые строки датасета\\n')\n",
    "    display(dataset.head())\n",
    "    print('Описательная статистика\\n')\n",
    "    display(dataset.describe())\n",
    "    print('Описательная статистика столбцов object\\n')\n",
    "    display(dataset.describe(include=['object', 'bool']))\n",
    "    print('Количество пропусков в каждом столбце\\n')\n",
    "    display(dataset.isna().sum())\n",
    "    print('Количество уникальных значений\\n')\n",
    "    display(dataset.nunique())\n",
    "    print('Количество дубликатов\\n')\n",
    "    display(dataset.duplicated().sum())"
   ]
  },
  {
   "cell_type": "code",
   "execution_count": 5,
   "metadata": {
    "colab": {
     "base_uri": "https://localhost:8080/",
     "height": 1000
    },
    "id": "aMUMEvg2CaR4",
    "outputId": "bb54f071-78cc-4882-b43a-5095e43b18d5"
   },
   "outputs": [
    {
     "name": "stdout",
     "output_type": "stream",
     "text": [
      "Общая информация\n",
      "\n",
      "<class 'pandas.core.frame.DataFrame'>\n",
      "RangeIndex: 4830 entries, 0 to 4829\n",
      "Data columns (total 74 columns):\n",
      " #   Column              Non-Null Count  Dtype  \n",
      "---  ------              --------------  -----  \n",
      " 0   id                  4830 non-null   int64  \n",
      " 1   area                4830 non-null   int64  \n",
      " 2   nd_mean_2021-04-16  4830 non-null   float64\n",
      " 3   nd_mean_2021-04-19  4830 non-null   float64\n",
      " 4   nd_mean_2021-04-22  4830 non-null   float64\n",
      " 5   nd_mean_2021-04-26  4830 non-null   float64\n",
      " 6   nd_mean_2021-04-28  4830 non-null   float64\n",
      " 7   nd_mean_2021-05-02  4830 non-null   float64\n",
      " 8   nd_mean_2021-05-04  4830 non-null   float64\n",
      " 9   nd_mean_2021-05-07  4830 non-null   float64\n",
      " 10  nd_mean_2021-05-16  4830 non-null   float64\n",
      " 11  nd_mean_2021-05-17  4830 non-null   float64\n",
      " 12  nd_mean_2021-05-21  4830 non-null   float64\n",
      " 13  nd_mean_2021-05-26  4830 non-null   float64\n",
      " 14  nd_mean_2021-05-27  4830 non-null   float64\n",
      " 15  nd_mean_2021-05-29  4830 non-null   float64\n",
      " 16  nd_mean_2021-06-06  4830 non-null   float64\n",
      " 17  nd_mean_2021-06-09  4830 non-null   float64\n",
      " 18  nd_mean_2021-06-13  4830 non-null   float64\n",
      " 19  nd_mean_2021-06-16  4830 non-null   float64\n",
      " 20  nd_mean_2021-06-18  4830 non-null   float64\n",
      " 21  nd_mean_2021-06-19  4830 non-null   float64\n",
      " 22  nd_mean_2021-06-20  4830 non-null   float64\n",
      " 23  nd_mean_2021-06-22  4830 non-null   float64\n",
      " 24  nd_mean_2021-06-25  4830 non-null   float64\n",
      " 25  nd_mean_2021-06-27  4830 non-null   float64\n",
      " 26  nd_mean_2021-07-07  4830 non-null   float64\n",
      " 27  nd_mean_2021-07-08  4830 non-null   float64\n",
      " 28  nd_mean_2021-07-09  4830 non-null   float64\n",
      " 29  nd_mean_2021-07-13  4830 non-null   float64\n",
      " 30  nd_mean_2021-07-15  4830 non-null   float64\n",
      " 31  nd_mean_2021-07-17  4830 non-null   float64\n",
      " 32  nd_mean_2021-07-20  4830 non-null   float64\n",
      " 33  nd_mean_2021-07-26  4830 non-null   float64\n",
      " 34  nd_mean_2021-07-27  4830 non-null   float64\n",
      " 35  nd_mean_2021-07-29  4830 non-null   float64\n",
      " 36  nd_mean_2021-07-31  4830 non-null   float64\n",
      " 37  nd_mean_2021-08-07  4830 non-null   float64\n",
      " 38  nd_mean_2021-08-12  4830 non-null   float64\n",
      " 39  .geo                4830 non-null   object \n",
      " 40  nd_mean_2021-04-15  4830 non-null   float64\n",
      " 41  nd_mean_2021-04-18  4830 non-null   float64\n",
      " 42  nd_mean_2021-04-25  4830 non-null   float64\n",
      " 43  nd_mean_2021-04-27  4830 non-null   float64\n",
      " 44  nd_mean_2021-04-29  4830 non-null   float64\n",
      " 45  nd_mean_2021-04-30  4830 non-null   float64\n",
      " 46  nd_mean_2021-06-07  4830 non-null   float64\n",
      " 47  nd_mean_2021-06-12  4830 non-null   float64\n",
      " 48  nd_mean_2021-06-28  4830 non-null   float64\n",
      " 49  nd_mean_2021-08-01  4830 non-null   float64\n",
      " 50  nd_mean_2021-08-11  4830 non-null   float64\n",
      " 51  nd_mean_2021-05-01  4830 non-null   float64\n",
      " 52  nd_mean_2021-05-03  4830 non-null   float64\n",
      " 53  nd_mean_2021-05-10  4830 non-null   float64\n",
      " 54  nd_mean_2021-05-15  4830 non-null   float64\n",
      " 55  nd_mean_2021-06-02  4830 non-null   float64\n",
      " 56  nd_mean_2021-06-03  4830 non-null   float64\n",
      " 57  nd_mean_2021-07-04  4830 non-null   float64\n",
      " 58  nd_mean_2021-08-10  4830 non-null   float64\n",
      " 59  nd_mean_2021-08-23  4830 non-null   float64\n",
      " 60  nd_mean_2021-04-20  4830 non-null   float64\n",
      " 61  nd_mean_2021-04-23  4830 non-null   float64\n",
      " 62  nd_mean_2021-05-09  4830 non-null   float64\n",
      " 63  nd_mean_2021-05-19  4830 non-null   float64\n",
      " 64  nd_mean_2021-05-20  4830 non-null   float64\n",
      " 65  nd_mean_2021-06-04  4830 non-null   float64\n",
      " 66  nd_mean_2021-06-05  4830 non-null   float64\n",
      " 67  nd_mean_2021-06-10  4830 non-null   float64\n",
      " 68  nd_mean_2021-07-05  4830 non-null   float64\n",
      " 69  nd_mean_2021-08-13  4830 non-null   float64\n",
      " 70  nd_mean_2021-08-27  4830 non-null   float64\n",
      " 71  nd_mean_2021-05-08  4830 non-null   float64\n",
      " 72  nd_mean_2021-05-24  4830 non-null   float64\n",
      " 73  crop                4830 non-null   int64  \n",
      "dtypes: float64(70), int64(3), object(1)\n",
      "memory usage: 2.7+ MB\n"
     ]
    },
    {
     "data": {
      "text/plain": [
       "None"
      ]
     },
     "metadata": {},
     "output_type": "display_data"
    },
    {
     "name": "stdout",
     "output_type": "stream",
     "text": [
      "Первые строки датасета\n",
      "\n"
     ]
    },
    {
     "data": {
      "text/html": [
       "<div>\n",
       "<style scoped>\n",
       "    .dataframe tbody tr th:only-of-type {\n",
       "        vertical-align: middle;\n",
       "    }\n",
       "\n",
       "    .dataframe tbody tr th {\n",
       "        vertical-align: top;\n",
       "    }\n",
       "\n",
       "    .dataframe thead th {\n",
       "        text-align: right;\n",
       "    }\n",
       "</style>\n",
       "<table border=\"1\" class=\"dataframe\">\n",
       "  <thead>\n",
       "    <tr style=\"text-align: right;\">\n",
       "      <th></th>\n",
       "      <th>id</th>\n",
       "      <th>area</th>\n",
       "      <th>nd_mean_2021-04-16</th>\n",
       "      <th>nd_mean_2021-04-19</th>\n",
       "      <th>nd_mean_2021-04-22</th>\n",
       "      <th>nd_mean_2021-04-26</th>\n",
       "      <th>nd_mean_2021-04-28</th>\n",
       "      <th>nd_mean_2021-05-02</th>\n",
       "      <th>nd_mean_2021-05-04</th>\n",
       "      <th>nd_mean_2021-05-07</th>\n",
       "      <th>...</th>\n",
       "      <th>nd_mean_2021-05-20</th>\n",
       "      <th>nd_mean_2021-06-04</th>\n",
       "      <th>nd_mean_2021-06-05</th>\n",
       "      <th>nd_mean_2021-06-10</th>\n",
       "      <th>nd_mean_2021-07-05</th>\n",
       "      <th>nd_mean_2021-08-13</th>\n",
       "      <th>nd_mean_2021-08-27</th>\n",
       "      <th>nd_mean_2021-05-08</th>\n",
       "      <th>nd_mean_2021-05-24</th>\n",
       "      <th>crop</th>\n",
       "    </tr>\n",
       "  </thead>\n",
       "  <tbody>\n",
       "    <tr>\n",
       "      <th>0</th>\n",
       "      <td>3536</td>\n",
       "      <td>20</td>\n",
       "      <td>0.072846</td>\n",
       "      <td>0.261778</td>\n",
       "      <td>0.062981</td>\n",
       "      <td>0.104442</td>\n",
       "      <td>0.021096</td>\n",
       "      <td>0.052202</td>\n",
       "      <td>0.158723</td>\n",
       "      <td>0.000000</td>\n",
       "      <td>...</td>\n",
       "      <td>0.108999</td>\n",
       "      <td>0.118854</td>\n",
       "      <td>0.000000</td>\n",
       "      <td>0.000000</td>\n",
       "      <td>0.026784</td>\n",
       "      <td>0.126832</td>\n",
       "      <td>0.614770</td>\n",
       "      <td>0.008857</td>\n",
       "      <td>0.081498</td>\n",
       "      <td>3</td>\n",
       "    </tr>\n",
       "    <tr>\n",
       "      <th>1</th>\n",
       "      <td>3739</td>\n",
       "      <td>45</td>\n",
       "      <td>0.332928</td>\n",
       "      <td>0.287182</td>\n",
       "      <td>0.097138</td>\n",
       "      <td>0.152467</td>\n",
       "      <td>0.075484</td>\n",
       "      <td>0.000000</td>\n",
       "      <td>0.140326</td>\n",
       "      <td>0.163340</td>\n",
       "      <td>...</td>\n",
       "      <td>0.134469</td>\n",
       "      <td>0.208268</td>\n",
       "      <td>0.000000</td>\n",
       "      <td>0.000000</td>\n",
       "      <td>0.111148</td>\n",
       "      <td>0.174914</td>\n",
       "      <td>0.179612</td>\n",
       "      <td>0.113071</td>\n",
       "      <td>0.046997</td>\n",
       "      <td>4</td>\n",
       "    </tr>\n",
       "    <tr>\n",
       "      <th>2</th>\n",
       "      <td>1294</td>\n",
       "      <td>28</td>\n",
       "      <td>0.013679</td>\n",
       "      <td>0.007055</td>\n",
       "      <td>0.120804</td>\n",
       "      <td>0.037839</td>\n",
       "      <td>0.259125</td>\n",
       "      <td>0.000000</td>\n",
       "      <td>0.037446</td>\n",
       "      <td>0.506516</td>\n",
       "      <td>...</td>\n",
       "      <td>0.084467</td>\n",
       "      <td>0.000000</td>\n",
       "      <td>0.210496</td>\n",
       "      <td>0.130467</td>\n",
       "      <td>0.155225</td>\n",
       "      <td>0.090607</td>\n",
       "      <td>0.054127</td>\n",
       "      <td>0.007437</td>\n",
       "      <td>0.219614</td>\n",
       "      <td>2</td>\n",
       "    </tr>\n",
       "    <tr>\n",
       "      <th>3</th>\n",
       "      <td>2859</td>\n",
       "      <td>19</td>\n",
       "      <td>0.105976</td>\n",
       "      <td>0.052500</td>\n",
       "      <td>0.001917</td>\n",
       "      <td>0.011531</td>\n",
       "      <td>0.042316</td>\n",
       "      <td>0.000000</td>\n",
       "      <td>0.000000</td>\n",
       "      <td>0.043604</td>\n",
       "      <td>...</td>\n",
       "      <td>0.000000</td>\n",
       "      <td>0.642226</td>\n",
       "      <td>0.132886</td>\n",
       "      <td>0.000000</td>\n",
       "      <td>0.570928</td>\n",
       "      <td>0.073492</td>\n",
       "      <td>0.378900</td>\n",
       "      <td>0.327677</td>\n",
       "      <td>0.586523</td>\n",
       "      <td>5</td>\n",
       "    </tr>\n",
       "    <tr>\n",
       "      <th>4</th>\n",
       "      <td>3685</td>\n",
       "      <td>33</td>\n",
       "      <td>0.130885</td>\n",
       "      <td>0.063492</td>\n",
       "      <td>0.024416</td>\n",
       "      <td>0.000000</td>\n",
       "      <td>0.150671</td>\n",
       "      <td>0.046717</td>\n",
       "      <td>0.254284</td>\n",
       "      <td>0.101479</td>\n",
       "      <td>...</td>\n",
       "      <td>0.206158</td>\n",
       "      <td>0.099058</td>\n",
       "      <td>0.152003</td>\n",
       "      <td>0.073357</td>\n",
       "      <td>0.147842</td>\n",
       "      <td>0.157676</td>\n",
       "      <td>0.012048</td>\n",
       "      <td>0.054223</td>\n",
       "      <td>0.017539</td>\n",
       "      <td>4</td>\n",
       "    </tr>\n",
       "  </tbody>\n",
       "</table>\n",
       "<p>5 rows × 74 columns</p>\n",
       "</div>"
      ],
      "text/plain": [
       "     id  area  nd_mean_2021-04-16  nd_mean_2021-04-19  nd_mean_2021-04-22  \\\n",
       "0  3536    20            0.072846            0.261778            0.062981   \n",
       "1  3739    45            0.332928            0.287182            0.097138   \n",
       "2  1294    28            0.013679            0.007055            0.120804   \n",
       "3  2859    19            0.105976            0.052500            0.001917   \n",
       "4  3685    33            0.130885            0.063492            0.024416   \n",
       "\n",
       "   nd_mean_2021-04-26  nd_mean_2021-04-28  nd_mean_2021-05-02  \\\n",
       "0            0.104442            0.021096            0.052202   \n",
       "1            0.152467            0.075484            0.000000   \n",
       "2            0.037839            0.259125            0.000000   \n",
       "3            0.011531            0.042316            0.000000   \n",
       "4            0.000000            0.150671            0.046717   \n",
       "\n",
       "   nd_mean_2021-05-04  nd_mean_2021-05-07  ...  nd_mean_2021-05-20  \\\n",
       "0            0.158723            0.000000  ...            0.108999   \n",
       "1            0.140326            0.163340  ...            0.134469   \n",
       "2            0.037446            0.506516  ...            0.084467   \n",
       "3            0.000000            0.043604  ...            0.000000   \n",
       "4            0.254284            0.101479  ...            0.206158   \n",
       "\n",
       "   nd_mean_2021-06-04  nd_mean_2021-06-05  nd_mean_2021-06-10  \\\n",
       "0            0.118854            0.000000            0.000000   \n",
       "1            0.208268            0.000000            0.000000   \n",
       "2            0.000000            0.210496            0.130467   \n",
       "3            0.642226            0.132886            0.000000   \n",
       "4            0.099058            0.152003            0.073357   \n",
       "\n",
       "   nd_mean_2021-07-05  nd_mean_2021-08-13  nd_mean_2021-08-27  \\\n",
       "0            0.026784            0.126832            0.614770   \n",
       "1            0.111148            0.174914            0.179612   \n",
       "2            0.155225            0.090607            0.054127   \n",
       "3            0.570928            0.073492            0.378900   \n",
       "4            0.147842            0.157676            0.012048   \n",
       "\n",
       "   nd_mean_2021-05-08  nd_mean_2021-05-24  crop  \n",
       "0            0.008857            0.081498     3  \n",
       "1            0.113071            0.046997     4  \n",
       "2            0.007437            0.219614     2  \n",
       "3            0.327677            0.586523     5  \n",
       "4            0.054223            0.017539     4  \n",
       "\n",
       "[5 rows x 74 columns]"
      ]
     },
     "metadata": {},
     "output_type": "display_data"
    },
    {
     "name": "stdout",
     "output_type": "stream",
     "text": [
      "Описательная статистика\n",
      "\n"
     ]
    },
    {
     "data": {
      "text/html": [
       "<div>\n",
       "<style scoped>\n",
       "    .dataframe tbody tr th:only-of-type {\n",
       "        vertical-align: middle;\n",
       "    }\n",
       "\n",
       "    .dataframe tbody tr th {\n",
       "        vertical-align: top;\n",
       "    }\n",
       "\n",
       "    .dataframe thead th {\n",
       "        text-align: right;\n",
       "    }\n",
       "</style>\n",
       "<table border=\"1\" class=\"dataframe\">\n",
       "  <thead>\n",
       "    <tr style=\"text-align: right;\">\n",
       "      <th></th>\n",
       "      <th>id</th>\n",
       "      <th>area</th>\n",
       "      <th>nd_mean_2021-04-16</th>\n",
       "      <th>nd_mean_2021-04-19</th>\n",
       "      <th>nd_mean_2021-04-22</th>\n",
       "      <th>nd_mean_2021-04-26</th>\n",
       "      <th>nd_mean_2021-04-28</th>\n",
       "      <th>nd_mean_2021-05-02</th>\n",
       "      <th>nd_mean_2021-05-04</th>\n",
       "      <th>nd_mean_2021-05-07</th>\n",
       "      <th>...</th>\n",
       "      <th>nd_mean_2021-05-20</th>\n",
       "      <th>nd_mean_2021-06-04</th>\n",
       "      <th>nd_mean_2021-06-05</th>\n",
       "      <th>nd_mean_2021-06-10</th>\n",
       "      <th>nd_mean_2021-07-05</th>\n",
       "      <th>nd_mean_2021-08-13</th>\n",
       "      <th>nd_mean_2021-08-27</th>\n",
       "      <th>nd_mean_2021-05-08</th>\n",
       "      <th>nd_mean_2021-05-24</th>\n",
       "      <th>crop</th>\n",
       "    </tr>\n",
       "  </thead>\n",
       "  <tbody>\n",
       "    <tr>\n",
       "      <th>count</th>\n",
       "      <td>4830.000000</td>\n",
       "      <td>4830.000000</td>\n",
       "      <td>4830.000000</td>\n",
       "      <td>4830.000000</td>\n",
       "      <td>4830.000000</td>\n",
       "      <td>4830.000000</td>\n",
       "      <td>4830.000000</td>\n",
       "      <td>4830.000000</td>\n",
       "      <td>4830.000000</td>\n",
       "      <td>4830.000000</td>\n",
       "      <td>...</td>\n",
       "      <td>4830.000000</td>\n",
       "      <td>4830.000000</td>\n",
       "      <td>4830.000000</td>\n",
       "      <td>4830.000000</td>\n",
       "      <td>4830.000000</td>\n",
       "      <td>4830.000000</td>\n",
       "      <td>4830.000000</td>\n",
       "      <td>4830.000000</td>\n",
       "      <td>4830.000000</td>\n",
       "      <td>4830.000000</td>\n",
       "    </tr>\n",
       "    <tr>\n",
       "      <th>mean</th>\n",
       "      <td>3473.406211</td>\n",
       "      <td>53.871429</td>\n",
       "      <td>0.149911</td>\n",
       "      <td>0.118843</td>\n",
       "      <td>0.158939</td>\n",
       "      <td>0.166146</td>\n",
       "      <td>0.125002</td>\n",
       "      <td>0.162440</td>\n",
       "      <td>0.092302</td>\n",
       "      <td>0.108834</td>\n",
       "      <td>...</td>\n",
       "      <td>0.153016</td>\n",
       "      <td>0.168406</td>\n",
       "      <td>0.111583</td>\n",
       "      <td>0.141471</td>\n",
       "      <td>0.172343</td>\n",
       "      <td>0.121483</td>\n",
       "      <td>0.145211</td>\n",
       "      <td>0.107207</td>\n",
       "      <td>0.119274</td>\n",
       "      <td>2.953830</td>\n",
       "    </tr>\n",
       "    <tr>\n",
       "      <th>std</th>\n",
       "      <td>1984.993812</td>\n",
       "      <td>34.191660</td>\n",
       "      <td>0.112598</td>\n",
       "      <td>0.103192</td>\n",
       "      <td>0.136001</td>\n",
       "      <td>0.123605</td>\n",
       "      <td>0.117605</td>\n",
       "      <td>0.145027</td>\n",
       "      <td>0.095207</td>\n",
       "      <td>0.120939</td>\n",
       "      <td>...</td>\n",
       "      <td>0.185321</td>\n",
       "      <td>0.219428</td>\n",
       "      <td>0.150879</td>\n",
       "      <td>0.190674</td>\n",
       "      <td>0.228629</td>\n",
       "      <td>0.151392</td>\n",
       "      <td>0.162711</td>\n",
       "      <td>0.108508</td>\n",
       "      <td>0.155346</td>\n",
       "      <td>2.004587</td>\n",
       "    </tr>\n",
       "    <tr>\n",
       "      <th>min</th>\n",
       "      <td>0.000000</td>\n",
       "      <td>10.000000</td>\n",
       "      <td>0.000000</td>\n",
       "      <td>0.000000</td>\n",
       "      <td>0.000000</td>\n",
       "      <td>0.000000</td>\n",
       "      <td>0.000000</td>\n",
       "      <td>0.000000</td>\n",
       "      <td>0.000000</td>\n",
       "      <td>0.000000</td>\n",
       "      <td>...</td>\n",
       "      <td>-0.005158</td>\n",
       "      <td>-0.000653</td>\n",
       "      <td>0.000000</td>\n",
       "      <td>0.000000</td>\n",
       "      <td>0.000000</td>\n",
       "      <td>0.000000</td>\n",
       "      <td>0.000000</td>\n",
       "      <td>0.000000</td>\n",
       "      <td>0.000000</td>\n",
       "      <td>0.000000</td>\n",
       "    </tr>\n",
       "    <tr>\n",
       "      <th>25%</th>\n",
       "      <td>1772.500000</td>\n",
       "      <td>26.000000</td>\n",
       "      <td>0.047477</td>\n",
       "      <td>0.025280</td>\n",
       "      <td>0.050124</td>\n",
       "      <td>0.053859</td>\n",
       "      <td>0.027609</td>\n",
       "      <td>0.040885</td>\n",
       "      <td>0.012844</td>\n",
       "      <td>0.014682</td>\n",
       "      <td>...</td>\n",
       "      <td>0.020299</td>\n",
       "      <td>0.020892</td>\n",
       "      <td>0.012363</td>\n",
       "      <td>0.017028</td>\n",
       "      <td>0.018379</td>\n",
       "      <td>0.015292</td>\n",
       "      <td>0.022416</td>\n",
       "      <td>0.017028</td>\n",
       "      <td>0.011673</td>\n",
       "      <td>1.000000</td>\n",
       "    </tr>\n",
       "    <tr>\n",
       "      <th>50%</th>\n",
       "      <td>3489.500000</td>\n",
       "      <td>45.000000</td>\n",
       "      <td>0.142240</td>\n",
       "      <td>0.097346</td>\n",
       "      <td>0.129819</td>\n",
       "      <td>0.155571</td>\n",
       "      <td>0.096516</td>\n",
       "      <td>0.121307</td>\n",
       "      <td>0.069936</td>\n",
       "      <td>0.077155</td>\n",
       "      <td>...</td>\n",
       "      <td>0.086570</td>\n",
       "      <td>0.086574</td>\n",
       "      <td>0.068423</td>\n",
       "      <td>0.077626</td>\n",
       "      <td>0.085643</td>\n",
       "      <td>0.076428</td>\n",
       "      <td>0.088429</td>\n",
       "      <td>0.079537</td>\n",
       "      <td>0.070808</td>\n",
       "      <td>3.000000</td>\n",
       "    </tr>\n",
       "    <tr>\n",
       "      <th>75%</th>\n",
       "      <td>5191.750000</td>\n",
       "      <td>76.000000</td>\n",
       "      <td>0.245596</td>\n",
       "      <td>0.202955</td>\n",
       "      <td>0.241323</td>\n",
       "      <td>0.269131</td>\n",
       "      <td>0.192070</td>\n",
       "      <td>0.277772</td>\n",
       "      <td>0.143207</td>\n",
       "      <td>0.162079</td>\n",
       "      <td>...</td>\n",
       "      <td>0.189195</td>\n",
       "      <td>0.190436</td>\n",
       "      <td>0.149199</td>\n",
       "      <td>0.168154</td>\n",
       "      <td>0.192834</td>\n",
       "      <td>0.162134</td>\n",
       "      <td>0.198258</td>\n",
       "      <td>0.162584</td>\n",
       "      <td>0.158424</td>\n",
       "      <td>5.000000</td>\n",
       "    </tr>\n",
       "    <tr>\n",
       "      <th>max</th>\n",
       "      <td>6900.000000</td>\n",
       "      <td>140.000000</td>\n",
       "      <td>0.987671</td>\n",
       "      <td>0.760245</td>\n",
       "      <td>0.764437</td>\n",
       "      <td>0.983779</td>\n",
       "      <td>0.668150</td>\n",
       "      <td>0.970286</td>\n",
       "      <td>0.779277</td>\n",
       "      <td>0.782066</td>\n",
       "      <td>...</td>\n",
       "      <td>0.835639</td>\n",
       "      <td>0.892481</td>\n",
       "      <td>0.867968</td>\n",
       "      <td>0.946030</td>\n",
       "      <td>0.939444</td>\n",
       "      <td>0.896011</td>\n",
       "      <td>0.786905</td>\n",
       "      <td>0.766119</td>\n",
       "      <td>0.835383</td>\n",
       "      <td>6.000000</td>\n",
       "    </tr>\n",
       "  </tbody>\n",
       "</table>\n",
       "<p>8 rows × 73 columns</p>\n",
       "</div>"
      ],
      "text/plain": [
       "                id         area  nd_mean_2021-04-16  nd_mean_2021-04-19  \\\n",
       "count  4830.000000  4830.000000         4830.000000         4830.000000   \n",
       "mean   3473.406211    53.871429            0.149911            0.118843   \n",
       "std    1984.993812    34.191660            0.112598            0.103192   \n",
       "min       0.000000    10.000000            0.000000            0.000000   \n",
       "25%    1772.500000    26.000000            0.047477            0.025280   \n",
       "50%    3489.500000    45.000000            0.142240            0.097346   \n",
       "75%    5191.750000    76.000000            0.245596            0.202955   \n",
       "max    6900.000000   140.000000            0.987671            0.760245   \n",
       "\n",
       "       nd_mean_2021-04-22  nd_mean_2021-04-26  nd_mean_2021-04-28  \\\n",
       "count         4830.000000         4830.000000         4830.000000   \n",
       "mean             0.158939            0.166146            0.125002   \n",
       "std              0.136001            0.123605            0.117605   \n",
       "min              0.000000            0.000000            0.000000   \n",
       "25%              0.050124            0.053859            0.027609   \n",
       "50%              0.129819            0.155571            0.096516   \n",
       "75%              0.241323            0.269131            0.192070   \n",
       "max              0.764437            0.983779            0.668150   \n",
       "\n",
       "       nd_mean_2021-05-02  nd_mean_2021-05-04  nd_mean_2021-05-07  ...  \\\n",
       "count         4830.000000         4830.000000         4830.000000  ...   \n",
       "mean             0.162440            0.092302            0.108834  ...   \n",
       "std              0.145027            0.095207            0.120939  ...   \n",
       "min              0.000000            0.000000            0.000000  ...   \n",
       "25%              0.040885            0.012844            0.014682  ...   \n",
       "50%              0.121307            0.069936            0.077155  ...   \n",
       "75%              0.277772            0.143207            0.162079  ...   \n",
       "max              0.970286            0.779277            0.782066  ...   \n",
       "\n",
       "       nd_mean_2021-05-20  nd_mean_2021-06-04  nd_mean_2021-06-05  \\\n",
       "count         4830.000000         4830.000000         4830.000000   \n",
       "mean             0.153016            0.168406            0.111583   \n",
       "std              0.185321            0.219428            0.150879   \n",
       "min             -0.005158           -0.000653            0.000000   \n",
       "25%              0.020299            0.020892            0.012363   \n",
       "50%              0.086570            0.086574            0.068423   \n",
       "75%              0.189195            0.190436            0.149199   \n",
       "max              0.835639            0.892481            0.867968   \n",
       "\n",
       "       nd_mean_2021-06-10  nd_mean_2021-07-05  nd_mean_2021-08-13  \\\n",
       "count         4830.000000         4830.000000         4830.000000   \n",
       "mean             0.141471            0.172343            0.121483   \n",
       "std              0.190674            0.228629            0.151392   \n",
       "min              0.000000            0.000000            0.000000   \n",
       "25%              0.017028            0.018379            0.015292   \n",
       "50%              0.077626            0.085643            0.076428   \n",
       "75%              0.168154            0.192834            0.162134   \n",
       "max              0.946030            0.939444            0.896011   \n",
       "\n",
       "       nd_mean_2021-08-27  nd_mean_2021-05-08  nd_mean_2021-05-24         crop  \n",
       "count         4830.000000         4830.000000         4830.000000  4830.000000  \n",
       "mean             0.145211            0.107207            0.119274     2.953830  \n",
       "std              0.162711            0.108508            0.155346     2.004587  \n",
       "min              0.000000            0.000000            0.000000     0.000000  \n",
       "25%              0.022416            0.017028            0.011673     1.000000  \n",
       "50%              0.088429            0.079537            0.070808     3.000000  \n",
       "75%              0.198258            0.162584            0.158424     5.000000  \n",
       "max              0.786905            0.766119            0.835383     6.000000  \n",
       "\n",
       "[8 rows x 73 columns]"
      ]
     },
     "metadata": {},
     "output_type": "display_data"
    },
    {
     "name": "stdout",
     "output_type": "stream",
     "text": [
      "Описательная статистика столбцов object\n",
      "\n"
     ]
    },
    {
     "data": {
      "text/html": [
       "<div>\n",
       "<style scoped>\n",
       "    .dataframe tbody tr th:only-of-type {\n",
       "        vertical-align: middle;\n",
       "    }\n",
       "\n",
       "    .dataframe tbody tr th {\n",
       "        vertical-align: top;\n",
       "    }\n",
       "\n",
       "    .dataframe thead th {\n",
       "        text-align: right;\n",
       "    }\n",
       "</style>\n",
       "<table border=\"1\" class=\"dataframe\">\n",
       "  <thead>\n",
       "    <tr style=\"text-align: right;\">\n",
       "      <th></th>\n",
       "      <th>.geo</th>\n",
       "    </tr>\n",
       "  </thead>\n",
       "  <tbody>\n",
       "    <tr>\n",
       "      <th>count</th>\n",
       "      <td>4830</td>\n",
       "    </tr>\n",
       "    <tr>\n",
       "      <th>unique</th>\n",
       "      <td>4830</td>\n",
       "    </tr>\n",
       "    <tr>\n",
       "      <th>top</th>\n",
       "      <td>{\"type\":\"Polygon\",\"coordinates\":[[[42.49107269...</td>\n",
       "    </tr>\n",
       "    <tr>\n",
       "      <th>freq</th>\n",
       "      <td>1</td>\n",
       "    </tr>\n",
       "  </tbody>\n",
       "</table>\n",
       "</div>"
      ],
      "text/plain": [
       "                                                     .geo\n",
       "count                                                4830\n",
       "unique                                               4830\n",
       "top     {\"type\":\"Polygon\",\"coordinates\":[[[42.49107269...\n",
       "freq                                                    1"
      ]
     },
     "metadata": {},
     "output_type": "display_data"
    },
    {
     "name": "stdout",
     "output_type": "stream",
     "text": [
      "Количество пропусков в каждом столбце\n",
      "\n"
     ]
    },
    {
     "data": {
      "text/plain": [
       "id                    0\n",
       "area                  0\n",
       "nd_mean_2021-04-16    0\n",
       "nd_mean_2021-04-19    0\n",
       "nd_mean_2021-04-22    0\n",
       "                     ..\n",
       "nd_mean_2021-08-13    0\n",
       "nd_mean_2021-08-27    0\n",
       "nd_mean_2021-05-08    0\n",
       "nd_mean_2021-05-24    0\n",
       "crop                  0\n",
       "Length: 74, dtype: int64"
      ]
     },
     "metadata": {},
     "output_type": "display_data"
    },
    {
     "name": "stdout",
     "output_type": "stream",
     "text": [
      "Количество уникальных значений\n",
      "\n"
     ]
    },
    {
     "data": {
      "text/plain": [
       "id                    4830\n",
       "area                   131\n",
       "nd_mean_2021-04-16    4272\n",
       "nd_mean_2021-04-19    4081\n",
       "nd_mean_2021-04-22    4298\n",
       "                      ... \n",
       "nd_mean_2021-08-13    3939\n",
       "nd_mean_2021-08-27    4054\n",
       "nd_mean_2021-05-08    4002\n",
       "nd_mean_2021-05-24    3899\n",
       "crop                     7\n",
       "Length: 74, dtype: int64"
      ]
     },
     "metadata": {},
     "output_type": "display_data"
    },
    {
     "name": "stdout",
     "output_type": "stream",
     "text": [
      "Количество дубликатов\n",
      "\n"
     ]
    },
    {
     "data": {
      "text/plain": [
       "0"
      ]
     },
     "metadata": {},
     "output_type": "display_data"
    }
   ],
   "source": [
    "df_check(df_train)"
   ]
  },
  {
   "cell_type": "markdown",
   "metadata": {
    "id": "k3RU_tFVG4CG"
   },
   "source": [
    "Сейчас разберу целевой столбец crop. Популярность культур и зависимость этого столбца от других данных."
   ]
  },
  {
   "cell_type": "code",
   "execution_count": 6,
   "metadata": {
    "colab": {
     "base_uri": "https://localhost:8080/",
     "height": 279
    },
    "id": "j29LXo7jPOUj",
    "outputId": "61a283cf-af80-40bb-aee4-450761ee378e"
   },
   "outputs": [
    {
     "data": {
      "image/png": "[encoded data removed]",
      "text/plain": [
       "<Figure size 432x288 with 1 Axes>"
      ]
     },
     "metadata": {
      "needs_background": "light"
     },
     "output_type": "display_data"
    }
   ],
   "source": [
    "df_train['crop'].hist(bins=20)\n",
    "plt.xlabel('Культура')\n",
    "plt.ylabel('Количество')\n",
    "plt.show()"
   ]
  },
  {
   "cell_type": "code",
   "execution_count": 7,
   "metadata": {
    "colab": {
     "base_uri": "https://localhost:8080/"
    },
    "id": "cpxVYByuIO-Q",
    "outputId": "e1876101-281a-43d5-d312-8b7224fa7d83"
   },
   "outputs": [
    {
     "data": {
      "text/plain": [
       "0    726\n",
       "1    700\n",
       "2    697\n",
       "3    655\n",
       "4    718\n",
       "5    668\n",
       "6    666\n",
       "Name: crop, dtype: int64"
      ]
     },
     "execution_count": 7,
     "metadata": {},
     "output_type": "execute_result"
    }
   ],
   "source": [
    "df_train['crop'].value_counts().sort_index(ascending=True)"
   ]
  },
  {
   "cell_type": "markdown",
   "metadata": {
    "id": "B-YH6RXmm9uV"
   },
   "source": [
    "Целевой признак выглядит сбалансированным"
   ]
  },
  {
   "cell_type": "code",
   "execution_count": 8,
   "metadata": {
    "id": "Mvl9HB4qZ0_N"
   },
   "outputs": [],
   "source": [
    "cols = ['id', 'nd_mean_2021-04-16', 'nd_mean_2021-04-19', 'nd_mean_2021-04-22', 'nd_mean_2021-04-26', 'nd_mean_2021-04-28',\n",
    "         'nd_mean_2021-05-02', 'nd_mean_2021-05-04', 'nd_mean_2021-05-07', 'nd_mean_2021-05-16', 'nd_mean_2021-05-17',\n",
    "         'nd_mean_2021-05-21', 'nd_mean_2021-05-26', 'nd_mean_2021-05-27', 'nd_mean_2021-05-29', 'nd_mean_2021-06-06',\n",
    "         'nd_mean_2021-06-13', 'nd_mean_2021-06-16', 'nd_mean_2021-06-18', 'nd_mean_2021-06-19', 'nd_mean_2021-06-20',\n",
    "          'nd_mean_2021-06-22', 'nd_mean_2021-06-25', 'nd_mean_2021-06-27', 'nd_mean_2021-07-07', 'nd_mean_2021-07-08',\n",
    "          'nd_mean_2021-07-09', 'nd_mean_2021-07-13', 'nd_mean_2021-07-15', 'nd_mean_2021-07-17', 'nd_mean_2021-07-20',\n",
    "          'nd_mean_2021-07-26', 'nd_mean_2021-07-27', 'nd_mean_2021-07-29', 'nd_mean_2021-07-31', 'nd_mean_2021-08-07', \n",
    "          'nd_mean_2021-08-12', 'nd_mean_2021-04-15', 'nd_mean_2021-04-18', 'nd_mean_2021-04-25', 'nd_mean_2021-04-27',\n",
    "          'nd_mean_2021-04-29', 'nd_mean_2021-04-30', 'nd_mean_2021-06-07', 'nd_mean_2021-06-12', 'nd_mean_2021-06-28',\n",
    "          'nd_mean_2021-08-01', 'nd_mean_2021-08-11', 'nd_mean_2021-05-01', 'nd_mean_2021-05-03', 'nd_mean_2021-05-10', \n",
    "          'nd_mean_2021-05-15', 'nd_mean_2021-06-02', 'nd_mean_2021-06-03', 'nd_mean_2021-07-04', 'nd_mean_2021-08-10',\n",
    "          'nd_mean_2021-08-23', 'nd_mean_2021-04-20', 'nd_mean_2021-04-23', 'nd_mean_2021-05-09', 'nd_mean_2021-05-19',\n",
    "          'nd_mean_2021-05-20', 'nd_mean_2021-06-04', 'nd_mean_2021-06-05', 'nd_mean_2021-06-10', 'nd_mean_2021-07-05',\n",
    "          'nd_mean_2021-08-13',  'nd_mean_2021-08-27', 'nd_mean_2021-05-08', 'nd_mean_2021-05-24']"
   ]
  },
  {
   "cell_type": "code",
   "execution_count": 9,
   "metadata": {
    "colab": {
     "base_uri": "https://localhost:8080/",
     "height": 474
    },
    "id": "vixyBlakcJ9D",
    "outputId": "cb43a66a-9c3a-4d46-a0be-baf0aaf14e35"
   },
   "outputs": [
    {
     "data": {
      "text/html": [
       "<div>\n",
       "<style scoped>\n",
       "    .dataframe tbody tr th:only-of-type {\n",
       "        vertical-align: middle;\n",
       "    }\n",
       "\n",
       "    .dataframe tbody tr th {\n",
       "        vertical-align: top;\n",
       "    }\n",
       "\n",
       "    .dataframe thead th {\n",
       "        text-align: right;\n",
       "    }\n",
       "</style>\n",
       "<table border=\"1\" class=\"dataframe\">\n",
       "  <thead>\n",
       "    <tr style=\"text-align: right;\">\n",
       "      <th></th>\n",
       "      <th>id</th>\n",
       "      <th>nd_mean_2021-04-16</th>\n",
       "      <th>nd_mean_2021-04-19</th>\n",
       "      <th>nd_mean_2021-04-22</th>\n",
       "      <th>nd_mean_2021-04-26</th>\n",
       "      <th>nd_mean_2021-04-28</th>\n",
       "      <th>nd_mean_2021-05-02</th>\n",
       "      <th>nd_mean_2021-05-04</th>\n",
       "      <th>nd_mean_2021-05-07</th>\n",
       "      <th>nd_mean_2021-05-16</th>\n",
       "      <th>...</th>\n",
       "      <th>nd_mean_2021-05-19</th>\n",
       "      <th>nd_mean_2021-05-20</th>\n",
       "      <th>nd_mean_2021-06-04</th>\n",
       "      <th>nd_mean_2021-06-05</th>\n",
       "      <th>nd_mean_2021-06-10</th>\n",
       "      <th>nd_mean_2021-07-05</th>\n",
       "      <th>nd_mean_2021-08-13</th>\n",
       "      <th>nd_mean_2021-08-27</th>\n",
       "      <th>nd_mean_2021-05-08</th>\n",
       "      <th>nd_mean_2021-05-24</th>\n",
       "    </tr>\n",
       "  </thead>\n",
       "  <tbody>\n",
       "    <tr>\n",
       "      <th>0</th>\n",
       "      <td>3536</td>\n",
       "      <td>0.072846</td>\n",
       "      <td>0.261778</td>\n",
       "      <td>0.062981</td>\n",
       "      <td>0.104442</td>\n",
       "      <td>0.021096</td>\n",
       "      <td>0.052202</td>\n",
       "      <td>0.158723</td>\n",
       "      <td>0.000000</td>\n",
       "      <td>0.484102</td>\n",
       "      <td>...</td>\n",
       "      <td>0.425571</td>\n",
       "      <td>0.108999</td>\n",
       "      <td>0.118854</td>\n",
       "      <td>0.000000</td>\n",
       "      <td>0.000000</td>\n",
       "      <td>0.026784</td>\n",
       "      <td>0.126832</td>\n",
       "      <td>0.614770</td>\n",
       "      <td>0.008857</td>\n",
       "      <td>0.081498</td>\n",
       "    </tr>\n",
       "    <tr>\n",
       "      <th>1</th>\n",
       "      <td>3739</td>\n",
       "      <td>0.332928</td>\n",
       "      <td>0.287182</td>\n",
       "      <td>0.097138</td>\n",
       "      <td>0.152467</td>\n",
       "      <td>0.075484</td>\n",
       "      <td>0.000000</td>\n",
       "      <td>0.140326</td>\n",
       "      <td>0.163340</td>\n",
       "      <td>0.519456</td>\n",
       "      <td>...</td>\n",
       "      <td>0.248935</td>\n",
       "      <td>0.134469</td>\n",
       "      <td>0.208268</td>\n",
       "      <td>0.000000</td>\n",
       "      <td>0.000000</td>\n",
       "      <td>0.111148</td>\n",
       "      <td>0.174914</td>\n",
       "      <td>0.179612</td>\n",
       "      <td>0.113071</td>\n",
       "      <td>0.046997</td>\n",
       "    </tr>\n",
       "    <tr>\n",
       "      <th>2</th>\n",
       "      <td>1294</td>\n",
       "      <td>0.013679</td>\n",
       "      <td>0.007055</td>\n",
       "      <td>0.120804</td>\n",
       "      <td>0.037839</td>\n",
       "      <td>0.259125</td>\n",
       "      <td>0.000000</td>\n",
       "      <td>0.037446</td>\n",
       "      <td>0.506516</td>\n",
       "      <td>0.000000</td>\n",
       "      <td>...</td>\n",
       "      <td>0.127633</td>\n",
       "      <td>0.084467</td>\n",
       "      <td>0.000000</td>\n",
       "      <td>0.210496</td>\n",
       "      <td>0.130467</td>\n",
       "      <td>0.155225</td>\n",
       "      <td>0.090607</td>\n",
       "      <td>0.054127</td>\n",
       "      <td>0.007437</td>\n",
       "      <td>0.219614</td>\n",
       "    </tr>\n",
       "    <tr>\n",
       "      <th>3</th>\n",
       "      <td>2859</td>\n",
       "      <td>0.105976</td>\n",
       "      <td>0.052500</td>\n",
       "      <td>0.001917</td>\n",
       "      <td>0.011531</td>\n",
       "      <td>0.042316</td>\n",
       "      <td>0.000000</td>\n",
       "      <td>0.000000</td>\n",
       "      <td>0.043604</td>\n",
       "      <td>0.510271</td>\n",
       "      <td>...</td>\n",
       "      <td>0.527583</td>\n",
       "      <td>0.000000</td>\n",
       "      <td>0.642226</td>\n",
       "      <td>0.132886</td>\n",
       "      <td>0.000000</td>\n",
       "      <td>0.570928</td>\n",
       "      <td>0.073492</td>\n",
       "      <td>0.378900</td>\n",
       "      <td>0.327677</td>\n",
       "      <td>0.586523</td>\n",
       "    </tr>\n",
       "    <tr>\n",
       "      <th>4</th>\n",
       "      <td>3685</td>\n",
       "      <td>0.130885</td>\n",
       "      <td>0.063492</td>\n",
       "      <td>0.024416</td>\n",
       "      <td>0.000000</td>\n",
       "      <td>0.150671</td>\n",
       "      <td>0.046717</td>\n",
       "      <td>0.254284</td>\n",
       "      <td>0.101479</td>\n",
       "      <td>0.000000</td>\n",
       "      <td>...</td>\n",
       "      <td>0.000000</td>\n",
       "      <td>0.206158</td>\n",
       "      <td>0.099058</td>\n",
       "      <td>0.152003</td>\n",
       "      <td>0.073357</td>\n",
       "      <td>0.147842</td>\n",
       "      <td>0.157676</td>\n",
       "      <td>0.012048</td>\n",
       "      <td>0.054223</td>\n",
       "      <td>0.017539</td>\n",
       "    </tr>\n",
       "    <tr>\n",
       "      <th>5</th>\n",
       "      <td>6443</td>\n",
       "      <td>0.280111</td>\n",
       "      <td>0.255778</td>\n",
       "      <td>0.174677</td>\n",
       "      <td>0.327109</td>\n",
       "      <td>0.052556</td>\n",
       "      <td>0.093938</td>\n",
       "      <td>0.000000</td>\n",
       "      <td>0.084180</td>\n",
       "      <td>0.438128</td>\n",
       "      <td>...</td>\n",
       "      <td>0.596844</td>\n",
       "      <td>0.550864</td>\n",
       "      <td>0.597998</td>\n",
       "      <td>0.039885</td>\n",
       "      <td>0.773661</td>\n",
       "      <td>0.681998</td>\n",
       "      <td>0.040244</td>\n",
       "      <td>0.377847</td>\n",
       "      <td>0.030631</td>\n",
       "      <td>0.000000</td>\n",
       "    </tr>\n",
       "    <tr>\n",
       "      <th>6</th>\n",
       "      <td>6889</td>\n",
       "      <td>0.065092</td>\n",
       "      <td>0.095285</td>\n",
       "      <td>0.317724</td>\n",
       "      <td>0.092715</td>\n",
       "      <td>0.210422</td>\n",
       "      <td>0.000000</td>\n",
       "      <td>0.103085</td>\n",
       "      <td>0.049388</td>\n",
       "      <td>0.566210</td>\n",
       "      <td>...</td>\n",
       "      <td>0.161205</td>\n",
       "      <td>0.108805</td>\n",
       "      <td>0.079312</td>\n",
       "      <td>0.032510</td>\n",
       "      <td>0.000000</td>\n",
       "      <td>0.095017</td>\n",
       "      <td>0.138907</td>\n",
       "      <td>0.030898</td>\n",
       "      <td>0.006197</td>\n",
       "      <td>0.170735</td>\n",
       "    </tr>\n",
       "    <tr>\n",
       "      <th>7</th>\n",
       "      <td>5703</td>\n",
       "      <td>0.019472</td>\n",
       "      <td>0.250000</td>\n",
       "      <td>0.000000</td>\n",
       "      <td>0.254601</td>\n",
       "      <td>0.000000</td>\n",
       "      <td>0.300878</td>\n",
       "      <td>0.153703</td>\n",
       "      <td>0.122723</td>\n",
       "      <td>0.352370</td>\n",
       "      <td>...</td>\n",
       "      <td>0.233836</td>\n",
       "      <td>0.019850</td>\n",
       "      <td>0.208412</td>\n",
       "      <td>0.230455</td>\n",
       "      <td>0.000000</td>\n",
       "      <td>0.011134</td>\n",
       "      <td>0.006577</td>\n",
       "      <td>0.073889</td>\n",
       "      <td>0.132709</td>\n",
       "      <td>0.114116</td>\n",
       "    </tr>\n",
       "    <tr>\n",
       "      <th>8</th>\n",
       "      <td>1112</td>\n",
       "      <td>0.140723</td>\n",
       "      <td>0.151389</td>\n",
       "      <td>0.084425</td>\n",
       "      <td>0.200453</td>\n",
       "      <td>0.031948</td>\n",
       "      <td>0.066672</td>\n",
       "      <td>0.091610</td>\n",
       "      <td>0.000000</td>\n",
       "      <td>0.321452</td>\n",
       "      <td>...</td>\n",
       "      <td>0.052141</td>\n",
       "      <td>0.000000</td>\n",
       "      <td>0.160664</td>\n",
       "      <td>0.082408</td>\n",
       "      <td>0.004456</td>\n",
       "      <td>0.057482</td>\n",
       "      <td>0.225484</td>\n",
       "      <td>0.237937</td>\n",
       "      <td>0.153852</td>\n",
       "      <td>0.164892</td>\n",
       "    </tr>\n",
       "    <tr>\n",
       "      <th>9</th>\n",
       "      <td>776</td>\n",
       "      <td>0.259478</td>\n",
       "      <td>0.275341</td>\n",
       "      <td>0.206800</td>\n",
       "      <td>0.113008</td>\n",
       "      <td>0.101093</td>\n",
       "      <td>0.280849</td>\n",
       "      <td>0.040560</td>\n",
       "      <td>0.043373</td>\n",
       "      <td>0.231380</td>\n",
       "      <td>...</td>\n",
       "      <td>0.052068</td>\n",
       "      <td>0.000000</td>\n",
       "      <td>0.008591</td>\n",
       "      <td>0.095069</td>\n",
       "      <td>0.251147</td>\n",
       "      <td>0.025550</td>\n",
       "      <td>0.049767</td>\n",
       "      <td>0.047431</td>\n",
       "      <td>0.000000</td>\n",
       "      <td>0.214064</td>\n",
       "    </tr>\n",
       "  </tbody>\n",
       "</table>\n",
       "<p>10 rows × 70 columns</p>\n",
       "</div>"
      ],
      "text/plain": [
       "     id  nd_mean_2021-04-16  nd_mean_2021-04-19  nd_mean_2021-04-22  \\\n",
       "0  3536            0.072846            0.261778            0.062981   \n",
       "1  3739            0.332928            0.287182            0.097138   \n",
       "2  1294            0.013679            0.007055            0.120804   \n",
       "3  2859            0.105976            0.052500            0.001917   \n",
       "4  3685            0.130885            0.063492            0.024416   \n",
       "5  6443            0.280111            0.255778            0.174677   \n",
       "6  6889            0.065092            0.095285            0.317724   \n",
       "7  5703            0.019472            0.250000            0.000000   \n",
       "8  1112            0.140723            0.151389            0.084425   \n",
       "9   776            0.259478            0.275341            0.206800   \n",
       "\n",
       "   nd_mean_2021-04-26  nd_mean_2021-04-28  nd_mean_2021-05-02  \\\n",
       "0            0.104442            0.021096            0.052202   \n",
       "1            0.152467            0.075484            0.000000   \n",
       "2            0.037839            0.259125            0.000000   \n",
       "3            0.011531            0.042316            0.000000   \n",
       "4            0.000000            0.150671            0.046717   \n",
       "5            0.327109            0.052556            0.093938   \n",
       "6            0.092715            0.210422            0.000000   \n",
       "7            0.254601            0.000000            0.300878   \n",
       "8            0.200453            0.031948            0.066672   \n",
       "9            0.113008            0.101093            0.280849   \n",
       "\n",
       "   nd_mean_2021-05-04  nd_mean_2021-05-07  nd_mean_2021-05-16  ...  \\\n",
       "0            0.158723            0.000000            0.484102  ...   \n",
       "1            0.140326            0.163340            0.519456  ...   \n",
       "2            0.037446            0.506516            0.000000  ...   \n",
       "3            0.000000            0.043604            0.510271  ...   \n",
       "4            0.254284            0.101479            0.000000  ...   \n",
       "5            0.000000            0.084180            0.438128  ...   \n",
       "6            0.103085            0.049388            0.566210  ...   \n",
       "7            0.153703            0.122723            0.352370  ...   \n",
       "8            0.091610            0.000000            0.321452  ...   \n",
       "9            0.040560            0.043373            0.231380  ...   \n",
       "\n",
       "   nd_mean_2021-05-19  nd_mean_2021-05-20  nd_mean_2021-06-04  \\\n",
       "0            0.425571            0.108999            0.118854   \n",
       "1            0.248935            0.134469            0.208268   \n",
       "2            0.127633            0.084467            0.000000   \n",
       "3            0.527583            0.000000            0.642226   \n",
       "4            0.000000            0.206158            0.099058   \n",
       "5            0.596844            0.550864            0.597998   \n",
       "6            0.161205            0.108805            0.079312   \n",
       "7            0.233836            0.019850            0.208412   \n",
       "8            0.052141            0.000000            0.160664   \n",
       "9            0.052068            0.000000            0.008591   \n",
       "\n",
       "   nd_mean_2021-06-05  nd_mean_2021-06-10  nd_mean_2021-07-05  \\\n",
       "0            0.000000            0.000000            0.026784   \n",
       "1            0.000000            0.000000            0.111148   \n",
       "2            0.210496            0.130467            0.155225   \n",
       "3            0.132886            0.000000            0.570928   \n",
       "4            0.152003            0.073357            0.147842   \n",
       "5            0.039885            0.773661            0.681998   \n",
       "6            0.032510            0.000000            0.095017   \n",
       "7            0.230455            0.000000            0.011134   \n",
       "8            0.082408            0.004456            0.057482   \n",
       "9            0.095069            0.251147            0.025550   \n",
       "\n",
       "   nd_mean_2021-08-13  nd_mean_2021-08-27  nd_mean_2021-05-08  \\\n",
       "0            0.126832            0.614770            0.008857   \n",
       "1            0.174914            0.179612            0.113071   \n",
       "2            0.090607            0.054127            0.007437   \n",
       "3            0.073492            0.378900            0.327677   \n",
       "4            0.157676            0.012048            0.054223   \n",
       "5            0.040244            0.377847            0.030631   \n",
       "6            0.138907            0.030898            0.006197   \n",
       "7            0.006577            0.073889            0.132709   \n",
       "8            0.225484            0.237937            0.153852   \n",
       "9            0.049767            0.047431            0.000000   \n",
       "\n",
       "   nd_mean_2021-05-24  \n",
       "0            0.081498  \n",
       "1            0.046997  \n",
       "2            0.219614  \n",
       "3            0.586523  \n",
       "4            0.017539  \n",
       "5            0.000000  \n",
       "6            0.170735  \n",
       "7            0.114116  \n",
       "8            0.164892  \n",
       "9            0.214064  \n",
       "\n",
       "[10 rows x 70 columns]"
      ]
     },
     "execution_count": 9,
     "metadata": {},
     "output_type": "execute_result"
    }
   ],
   "source": [
    "df_train[cols].head(10).sort_index(ascending=True)"
   ]
  },
  {
   "cell_type": "code",
   "execution_count": 10,
   "metadata": {
    "colab": {
     "base_uri": "https://localhost:8080/",
     "height": 395
    },
    "id": "XM6AFQQkadt0",
    "outputId": "150473eb-b9ca-4b48-eedb-f332449cce3f"
   },
   "outputs": [
    {
     "data": {
      "image/png": "[encoded data removed]",
      "text/plain": [
       "<Figure size 432x288 with 2 Axes>"
      ]
     },
     "metadata": {
      "needs_background": "light"
     },
     "output_type": "display_data"
    }
   ],
   "source": [
    "sns.heatmap(df_train.corr())\n",
    "plt.title('Корреляция признаков', fontsize=14)\n",
    "\n",
    "plt.show()"
   ]
  },
  {
   "cell_type": "markdown",
   "metadata": {
    "id": "JxuZgb48MAmk"
   },
   "source": [
    "Явных зависимостей не выявлено. Приступлю к замене значений временных рядов у которых есть пропуски и они заменены нулями."
   ]
  },
  {
   "cell_type": "code",
   "execution_count": 11,
   "metadata": {
    "id": "OijBw_kDT-MR"
   },
   "outputs": [],
   "source": [
    "df_new_train = df_train.copy()"
   ]
  },
  {
   "cell_type": "markdown",
   "metadata": {
    "id": "IxlwadxuhS0Q"
   },
   "source": [
    "Пропуски заполнены нулевыми значениями, так же есть отрицательные значения, хотя диапазон nd mean от 0 до 1."
   ]
  },
  {
   "cell_type": "code",
   "execution_count": 12,
   "metadata": {
    "id": "e5uwzucsXo3Q"
   },
   "outputs": [],
   "source": [
    "# все отрицательные и нулевые значения заменю на NaN\n",
    "df_new_train[df_new_train[cols] <= 0] = np.nan"
   ]
  },
  {
   "cell_type": "code",
   "execution_count": 13,
   "metadata": {
    "colab": {
     "base_uri": "https://localhost:8080/"
    },
    "id": "SmyTiZsmStfk",
    "outputId": "a5174686-392d-4832-9d8a-18c4f6e7ae56"
   },
   "outputs": [
    {
     "data": {
      "text/plain": [
       "0    726\n",
       "1    700\n",
       "2    697\n",
       "3    655\n",
       "4    718\n",
       "5    668\n",
       "6    666\n",
       "Name: crop, dtype: int64"
      ]
     },
     "execution_count": 13,
     "metadata": {},
     "output_type": "execute_result"
    }
   ],
   "source": [
    "df_new_train['crop'].value_counts().sort_index(ascending=True)"
   ]
  },
  {
   "cell_type": "code",
   "execution_count": 14,
   "metadata": {
    "id": "_Gp7iAL110LP"
   },
   "outputs": [],
   "source": [
    "# все наны преобразую в среднее значение\n",
    "for i in df_new_train.columns[df_new_train.isnull().any(axis=0)]:\n",
    "    df_new_train[i].fillna(df_new_train[i].mean(),inplace=True)"
   ]
  },
  {
   "cell_type": "code",
   "execution_count": 15,
   "metadata": {
    "colab": {
     "base_uri": "https://localhost:8080/",
     "height": 1000
    },
    "id": "wxGJwpGgkos8",
    "outputId": "f062a8cd-065b-4535-b890-94320b35e783"
   },
   "outputs": [
    {
     "name": "stdout",
     "output_type": "stream",
     "text": [
      "Общая информация\n",
      "\n",
      "<class 'pandas.core.frame.DataFrame'>\n",
      "RangeIndex: 4830 entries, 0 to 4829\n",
      "Data columns (total 74 columns):\n",
      " #   Column              Non-Null Count  Dtype  \n",
      "---  ------              --------------  -----  \n",
      " 0   id                  4830 non-null   float64\n",
      " 1   area                4830 non-null   int64  \n",
      " 2   nd_mean_2021-04-16  4830 non-null   float64\n",
      " 3   nd_mean_2021-04-19  4830 non-null   float64\n",
      " 4   nd_mean_2021-04-22  4830 non-null   float64\n",
      " 5   nd_mean_2021-04-26  4830 non-null   float64\n",
      " 6   nd_mean_2021-04-28  4830 non-null   float64\n",
      " 7   nd_mean_2021-05-02  4830 non-null   float64\n",
      " 8   nd_mean_2021-05-04  4830 non-null   float64\n",
      " 9   nd_mean_2021-05-07  4830 non-null   float64\n",
      " 10  nd_mean_2021-05-16  4830 non-null   float64\n",
      " 11  nd_mean_2021-05-17  4830 non-null   float64\n",
      " 12  nd_mean_2021-05-21  4830 non-null   float64\n",
      " 13  nd_mean_2021-05-26  4830 non-null   float64\n",
      " 14  nd_mean_2021-05-27  4830 non-null   float64\n",
      " 15  nd_mean_2021-05-29  4830 non-null   float64\n",
      " 16  nd_mean_2021-06-06  4830 non-null   float64\n",
      " 17  nd_mean_2021-06-09  4830 non-null   float64\n",
      " 18  nd_mean_2021-06-13  4830 non-null   float64\n",
      " 19  nd_mean_2021-06-16  4830 non-null   float64\n",
      " 20  nd_mean_2021-06-18  4830 non-null   float64\n",
      " 21  nd_mean_2021-06-19  4830 non-null   float64\n",
      " 22  nd_mean_2021-06-20  4830 non-null   float64\n",
      " 23  nd_mean_2021-06-22  4830 non-null   float64\n",
      " 24  nd_mean_2021-06-25  4830 non-null   float64\n",
      " 25  nd_mean_2021-06-27  4830 non-null   float64\n",
      " 26  nd_mean_2021-07-07  4830 non-null   float64\n",
      " 27  nd_mean_2021-07-08  4830 non-null   float64\n",
      " 28  nd_mean_2021-07-09  4830 non-null   float64\n",
      " 29  nd_mean_2021-07-13  4830 non-null   float64\n",
      " 30  nd_mean_2021-07-15  4830 non-null   float64\n",
      " 31  nd_mean_2021-07-17  4830 non-null   float64\n",
      " 32  nd_mean_2021-07-20  4830 non-null   float64\n",
      " 33  nd_mean_2021-07-26  4830 non-null   float64\n",
      " 34  nd_mean_2021-07-27  4830 non-null   float64\n",
      " 35  nd_mean_2021-07-29  4830 non-null   float64\n",
      " 36  nd_mean_2021-07-31  4830 non-null   float64\n",
      " 37  nd_mean_2021-08-07  4830 non-null   float64\n",
      " 38  nd_mean_2021-08-12  4830 non-null   float64\n",
      " 39  .geo                4830 non-null   object \n",
      " 40  nd_mean_2021-04-15  4830 non-null   float64\n",
      " 41  nd_mean_2021-04-18  4830 non-null   float64\n",
      " 42  nd_mean_2021-04-25  4830 non-null   float64\n",
      " 43  nd_mean_2021-04-27  4830 non-null   float64\n",
      " 44  nd_mean_2021-04-29  4830 non-null   float64\n",
      " 45  nd_mean_2021-04-30  4830 non-null   float64\n",
      " 46  nd_mean_2021-06-07  4830 non-null   float64\n",
      " 47  nd_mean_2021-06-12  4830 non-null   float64\n",
      " 48  nd_mean_2021-06-28  4830 non-null   float64\n",
      " 49  nd_mean_2021-08-01  4830 non-null   float64\n",
      " 50  nd_mean_2021-08-11  4830 non-null   float64\n",
      " 51  nd_mean_2021-05-01  4830 non-null   float64\n",
      " 52  nd_mean_2021-05-03  4830 non-null   float64\n",
      " 53  nd_mean_2021-05-10  4830 non-null   float64\n",
      " 54  nd_mean_2021-05-15  4830 non-null   float64\n",
      " 55  nd_mean_2021-06-02  4830 non-null   float64\n",
      " 56  nd_mean_2021-06-03  4830 non-null   float64\n",
      " 57  nd_mean_2021-07-04  4830 non-null   float64\n",
      " 58  nd_mean_2021-08-10  4830 non-null   float64\n",
      " 59  nd_mean_2021-08-23  4830 non-null   float64\n",
      " 60  nd_mean_2021-04-20  4830 non-null   float64\n",
      " 61  nd_mean_2021-04-23  4830 non-null   float64\n",
      " 62  nd_mean_2021-05-09  4830 non-null   float64\n",
      " 63  nd_mean_2021-05-19  4830 non-null   float64\n",
      " 64  nd_mean_2021-05-20  4830 non-null   float64\n",
      " 65  nd_mean_2021-06-04  4830 non-null   float64\n",
      " 66  nd_mean_2021-06-05  4830 non-null   float64\n",
      " 67  nd_mean_2021-06-10  4830 non-null   float64\n",
      " 68  nd_mean_2021-07-05  4830 non-null   float64\n",
      " 69  nd_mean_2021-08-13  4830 non-null   float64\n",
      " 70  nd_mean_2021-08-27  4830 non-null   float64\n",
      " 71  nd_mean_2021-05-08  4830 non-null   float64\n",
      " 72  nd_mean_2021-05-24  4830 non-null   float64\n",
      " 73  crop                4830 non-null   int64  \n",
      "dtypes: float64(71), int64(2), object(1)\n",
      "memory usage: 2.7+ MB\n"
     ]
    },
    {
     "data": {
      "text/plain": [
       "None"
      ]
     },
     "metadata": {},
     "output_type": "display_data"
    },
    {
     "name": "stdout",
     "output_type": "stream",
     "text": [
      "Первые строки датасета\n",
      "\n"
     ]
    },
    {
     "data": {
      "text/html": [
       "<div>\n",
       "<style scoped>\n",
       "    .dataframe tbody tr th:only-of-type {\n",
       "        vertical-align: middle;\n",
       "    }\n",
       "\n",
       "    .dataframe tbody tr th {\n",
       "        vertical-align: top;\n",
       "    }\n",
       "\n",
       "    .dataframe thead th {\n",
       "        text-align: right;\n",
       "    }\n",
       "</style>\n",
       "<table border=\"1\" class=\"dataframe\">\n",
       "  <thead>\n",
       "    <tr style=\"text-align: right;\">\n",
       "      <th></th>\n",
       "      <th>id</th>\n",
       "      <th>area</th>\n",
       "      <th>nd_mean_2021-04-16</th>\n",
       "      <th>nd_mean_2021-04-19</th>\n",
       "      <th>nd_mean_2021-04-22</th>\n",
       "      <th>nd_mean_2021-04-26</th>\n",
       "      <th>nd_mean_2021-04-28</th>\n",
       "      <th>nd_mean_2021-05-02</th>\n",
       "      <th>nd_mean_2021-05-04</th>\n",
       "      <th>nd_mean_2021-05-07</th>\n",
       "      <th>...</th>\n",
       "      <th>nd_mean_2021-05-20</th>\n",
       "      <th>nd_mean_2021-06-04</th>\n",
       "      <th>nd_mean_2021-06-05</th>\n",
       "      <th>nd_mean_2021-06-10</th>\n",
       "      <th>nd_mean_2021-07-05</th>\n",
       "      <th>nd_mean_2021-08-13</th>\n",
       "      <th>nd_mean_2021-08-27</th>\n",
       "      <th>nd_mean_2021-05-08</th>\n",
       "      <th>nd_mean_2021-05-24</th>\n",
       "      <th>crop</th>\n",
       "    </tr>\n",
       "  </thead>\n",
       "  <tbody>\n",
       "    <tr>\n",
       "      <th>0</th>\n",
       "      <td>3536.0</td>\n",
       "      <td>20</td>\n",
       "      <td>0.072846</td>\n",
       "      <td>0.261778</td>\n",
       "      <td>0.062981</td>\n",
       "      <td>0.104442</td>\n",
       "      <td>0.021096</td>\n",
       "      <td>0.052202</td>\n",
       "      <td>0.158723</td>\n",
       "      <td>0.133690</td>\n",
       "      <td>...</td>\n",
       "      <td>0.108999</td>\n",
       "      <td>0.118854</td>\n",
       "      <td>0.137838</td>\n",
       "      <td>0.171041</td>\n",
       "      <td>0.026784</td>\n",
       "      <td>0.126832</td>\n",
       "      <td>0.614770</td>\n",
       "      <td>0.008857</td>\n",
       "      <td>0.081498</td>\n",
       "      <td>3</td>\n",
       "    </tr>\n",
       "    <tr>\n",
       "      <th>1</th>\n",
       "      <td>3739.0</td>\n",
       "      <td>45</td>\n",
       "      <td>0.332928</td>\n",
       "      <td>0.287182</td>\n",
       "      <td>0.097138</td>\n",
       "      <td>0.152467</td>\n",
       "      <td>0.075484</td>\n",
       "      <td>0.185044</td>\n",
       "      <td>0.140326</td>\n",
       "      <td>0.163340</td>\n",
       "      <td>...</td>\n",
       "      <td>0.134469</td>\n",
       "      <td>0.208268</td>\n",
       "      <td>0.137838</td>\n",
       "      <td>0.171041</td>\n",
       "      <td>0.111148</td>\n",
       "      <td>0.174914</td>\n",
       "      <td>0.179612</td>\n",
       "      <td>0.113071</td>\n",
       "      <td>0.046997</td>\n",
       "      <td>4</td>\n",
       "    </tr>\n",
       "    <tr>\n",
       "      <th>2</th>\n",
       "      <td>1294.0</td>\n",
       "      <td>28</td>\n",
       "      <td>0.013679</td>\n",
       "      <td>0.007055</td>\n",
       "      <td>0.120804</td>\n",
       "      <td>0.037839</td>\n",
       "      <td>0.259125</td>\n",
       "      <td>0.185044</td>\n",
       "      <td>0.037446</td>\n",
       "      <td>0.506516</td>\n",
       "      <td>...</td>\n",
       "      <td>0.084467</td>\n",
       "      <td>0.201038</td>\n",
       "      <td>0.210496</td>\n",
       "      <td>0.130467</td>\n",
       "      <td>0.155225</td>\n",
       "      <td>0.090607</td>\n",
       "      <td>0.054127</td>\n",
       "      <td>0.007437</td>\n",
       "      <td>0.219614</td>\n",
       "      <td>2</td>\n",
       "    </tr>\n",
       "    <tr>\n",
       "      <th>3</th>\n",
       "      <td>2859.0</td>\n",
       "      <td>19</td>\n",
       "      <td>0.105976</td>\n",
       "      <td>0.052500</td>\n",
       "      <td>0.001917</td>\n",
       "      <td>0.011531</td>\n",
       "      <td>0.042316</td>\n",
       "      <td>0.185044</td>\n",
       "      <td>0.114313</td>\n",
       "      <td>0.043604</td>\n",
       "      <td>...</td>\n",
       "      <td>0.183758</td>\n",
       "      <td>0.642226</td>\n",
       "      <td>0.132886</td>\n",
       "      <td>0.171041</td>\n",
       "      <td>0.570928</td>\n",
       "      <td>0.073492</td>\n",
       "      <td>0.378900</td>\n",
       "      <td>0.327677</td>\n",
       "      <td>0.586523</td>\n",
       "      <td>5</td>\n",
       "    </tr>\n",
       "    <tr>\n",
       "      <th>4</th>\n",
       "      <td>3685.0</td>\n",
       "      <td>33</td>\n",
       "      <td>0.130885</td>\n",
       "      <td>0.063492</td>\n",
       "      <td>0.024416</td>\n",
       "      <td>0.185503</td>\n",
       "      <td>0.150671</td>\n",
       "      <td>0.046717</td>\n",
       "      <td>0.254284</td>\n",
       "      <td>0.101479</td>\n",
       "      <td>...</td>\n",
       "      <td>0.206158</td>\n",
       "      <td>0.099058</td>\n",
       "      <td>0.152003</td>\n",
       "      <td>0.073357</td>\n",
       "      <td>0.147842</td>\n",
       "      <td>0.157676</td>\n",
       "      <td>0.012048</td>\n",
       "      <td>0.054223</td>\n",
       "      <td>0.017539</td>\n",
       "      <td>4</td>\n",
       "    </tr>\n",
       "  </tbody>\n",
       "</table>\n",
       "<p>5 rows × 74 columns</p>\n",
       "</div>"
      ],
      "text/plain": [
       "       id  area  nd_mean_2021-04-16  nd_mean_2021-04-19  nd_mean_2021-04-22  \\\n",
       "0  3536.0    20            0.072846            0.261778            0.062981   \n",
       "1  3739.0    45            0.332928            0.287182            0.097138   \n",
       "2  1294.0    28            0.013679            0.007055            0.120804   \n",
       "3  2859.0    19            0.105976            0.052500            0.001917   \n",
       "4  3685.0    33            0.130885            0.063492            0.024416   \n",
       "\n",
       "   nd_mean_2021-04-26  nd_mean_2021-04-28  nd_mean_2021-05-02  \\\n",
       "0            0.104442            0.021096            0.052202   \n",
       "1            0.152467            0.075484            0.185044   \n",
       "2            0.037839            0.259125            0.185044   \n",
       "3            0.011531            0.042316            0.185044   \n",
       "4            0.185503            0.150671            0.046717   \n",
       "\n",
       "   nd_mean_2021-05-04  nd_mean_2021-05-07  ...  nd_mean_2021-05-20  \\\n",
       "0            0.158723            0.133690  ...            0.108999   \n",
       "1            0.140326            0.163340  ...            0.134469   \n",
       "2            0.037446            0.506516  ...            0.084467   \n",
       "3            0.114313            0.043604  ...            0.183758   \n",
       "4            0.254284            0.101479  ...            0.206158   \n",
       "\n",
       "   nd_mean_2021-06-04  nd_mean_2021-06-05  nd_mean_2021-06-10  \\\n",
       "0            0.118854            0.137838            0.171041   \n",
       "1            0.208268            0.137838            0.171041   \n",
       "2            0.201038            0.210496            0.130467   \n",
       "3            0.642226            0.132886            0.171041   \n",
       "4            0.099058            0.152003            0.073357   \n",
       "\n",
       "   nd_mean_2021-07-05  nd_mean_2021-08-13  nd_mean_2021-08-27  \\\n",
       "0            0.026784            0.126832            0.614770   \n",
       "1            0.111148            0.174914            0.179612   \n",
       "2            0.155225            0.090607            0.054127   \n",
       "3            0.570928            0.073492            0.378900   \n",
       "4            0.147842            0.157676            0.012048   \n",
       "\n",
       "   nd_mean_2021-05-08  nd_mean_2021-05-24  crop  \n",
       "0            0.008857            0.081498     3  \n",
       "1            0.113071            0.046997     4  \n",
       "2            0.007437            0.219614     2  \n",
       "3            0.327677            0.586523     5  \n",
       "4            0.054223            0.017539     4  \n",
       "\n",
       "[5 rows x 74 columns]"
      ]
     },
     "metadata": {},
     "output_type": "display_data"
    },
    {
     "name": "stdout",
     "output_type": "stream",
     "text": [
      "Описательная статистика\n",
      "\n"
     ]
    },
    {
     "data": {
      "text/html": [
       "<div>\n",
       "<style scoped>\n",
       "    .dataframe tbody tr th:only-of-type {\n",
       "        vertical-align: middle;\n",
       "    }\n",
       "\n",
       "    .dataframe tbody tr th {\n",
       "        vertical-align: top;\n",
       "    }\n",
       "\n",
       "    .dataframe thead th {\n",
       "        text-align: right;\n",
       "    }\n",
       "</style>\n",
       "<table border=\"1\" class=\"dataframe\">\n",
       "  <thead>\n",
       "    <tr style=\"text-align: right;\">\n",
       "      <th></th>\n",
       "      <th>id</th>\n",
       "      <th>area</th>\n",
       "      <th>nd_mean_2021-04-16</th>\n",
       "      <th>nd_mean_2021-04-19</th>\n",
       "      <th>nd_mean_2021-04-22</th>\n",
       "      <th>nd_mean_2021-04-26</th>\n",
       "      <th>nd_mean_2021-04-28</th>\n",
       "      <th>nd_mean_2021-05-02</th>\n",
       "      <th>nd_mean_2021-05-04</th>\n",
       "      <th>nd_mean_2021-05-07</th>\n",
       "      <th>...</th>\n",
       "      <th>nd_mean_2021-05-20</th>\n",
       "      <th>nd_mean_2021-06-04</th>\n",
       "      <th>nd_mean_2021-06-05</th>\n",
       "      <th>nd_mean_2021-06-10</th>\n",
       "      <th>nd_mean_2021-07-05</th>\n",
       "      <th>nd_mean_2021-08-13</th>\n",
       "      <th>nd_mean_2021-08-27</th>\n",
       "      <th>nd_mean_2021-05-08</th>\n",
       "      <th>nd_mean_2021-05-24</th>\n",
       "      <th>crop</th>\n",
       "    </tr>\n",
       "  </thead>\n",
       "  <tbody>\n",
       "    <tr>\n",
       "      <th>count</th>\n",
       "      <td>4830.000000</td>\n",
       "      <td>4830.000000</td>\n",
       "      <td>4830.000000</td>\n",
       "      <td>4830.000000</td>\n",
       "      <td>4830.000000</td>\n",
       "      <td>4830.000000</td>\n",
       "      <td>4830.000000</td>\n",
       "      <td>4830.000000</td>\n",
       "      <td>4830.000000</td>\n",
       "      <td>4830.000000</td>\n",
       "      <td>...</td>\n",
       "      <td>4830.000000</td>\n",
       "      <td>4830.000000</td>\n",
       "      <td>4830.000000</td>\n",
       "      <td>4830.000000</td>\n",
       "      <td>4830.000000</td>\n",
       "      <td>4830.000000</td>\n",
       "      <td>4830.000000</td>\n",
       "      <td>4830.000000</td>\n",
       "      <td>4830.000000</td>\n",
       "      <td>4830.000000</td>\n",
       "    </tr>\n",
       "    <tr>\n",
       "      <th>mean</th>\n",
       "      <td>3474.125492</td>\n",
       "      <td>53.871429</td>\n",
       "      <td>0.169452</td>\n",
       "      <td>0.140483</td>\n",
       "      <td>0.178529</td>\n",
       "      <td>0.185503</td>\n",
       "      <td>0.146544</td>\n",
       "      <td>0.185044</td>\n",
       "      <td>0.114313</td>\n",
       "      <td>0.133690</td>\n",
       "      <td>...</td>\n",
       "      <td>0.183758</td>\n",
       "      <td>0.201038</td>\n",
       "      <td>0.137838</td>\n",
       "      <td>0.171041</td>\n",
       "      <td>0.207430</td>\n",
       "      <td>0.148811</td>\n",
       "      <td>0.172921</td>\n",
       "      <td>0.129420</td>\n",
       "      <td>0.147792</td>\n",
       "      <td>2.953830</td>\n",
       "    </tr>\n",
       "    <tr>\n",
       "      <th>std</th>\n",
       "      <td>1984.364272</td>\n",
       "      <td>34.191660</td>\n",
       "      <td>0.098733</td>\n",
       "      <td>0.089868</td>\n",
       "      <td>0.124024</td>\n",
       "      <td>0.109825</td>\n",
       "      <td>0.105534</td>\n",
       "      <td>0.131759</td>\n",
       "      <td>0.083859</td>\n",
       "      <td>0.109181</td>\n",
       "      <td>...</td>\n",
       "      <td>0.172158</td>\n",
       "      <td>0.206524</td>\n",
       "      <td>0.140835</td>\n",
       "      <td>0.179367</td>\n",
       "      <td>0.214995</td>\n",
       "      <td>0.139996</td>\n",
       "      <td>0.149834</td>\n",
       "      <td>0.096913</td>\n",
       "      <td>0.143980</td>\n",
       "      <td>2.004587</td>\n",
       "    </tr>\n",
       "    <tr>\n",
       "      <th>min</th>\n",
       "      <td>1.000000</td>\n",
       "      <td>10.000000</td>\n",
       "      <td>0.000441</td>\n",
       "      <td>0.000222</td>\n",
       "      <td>0.000527</td>\n",
       "      <td>0.000390</td>\n",
       "      <td>0.000354</td>\n",
       "      <td>0.000267</td>\n",
       "      <td>0.000284</td>\n",
       "      <td>0.000211</td>\n",
       "      <td>...</td>\n",
       "      <td>0.000336</td>\n",
       "      <td>0.000171</td>\n",
       "      <td>0.000207</td>\n",
       "      <td>0.000405</td>\n",
       "      <td>0.000261</td>\n",
       "      <td>0.000285</td>\n",
       "      <td>0.000091</td>\n",
       "      <td>0.000126</td>\n",
       "      <td>0.000203</td>\n",
       "      <td>0.000000</td>\n",
       "    </tr>\n",
       "    <tr>\n",
       "      <th>25%</th>\n",
       "      <td>1774.500000</td>\n",
       "      <td>26.000000</td>\n",
       "      <td>0.089240</td>\n",
       "      <td>0.066971</td>\n",
       "      <td>0.083158</td>\n",
       "      <td>0.094366</td>\n",
       "      <td>0.065036</td>\n",
       "      <td>0.077021</td>\n",
       "      <td>0.055371</td>\n",
       "      <td>0.057481</td>\n",
       "      <td>...</td>\n",
       "      <td>0.063236</td>\n",
       "      <td>0.062865</td>\n",
       "      <td>0.055047</td>\n",
       "      <td>0.056469</td>\n",
       "      <td>0.062351</td>\n",
       "      <td>0.058238</td>\n",
       "      <td>0.062928</td>\n",
       "      <td>0.058067</td>\n",
       "      <td>0.055871</td>\n",
       "      <td>1.000000</td>\n",
       "    </tr>\n",
       "    <tr>\n",
       "      <th>50%</th>\n",
       "      <td>3489.500000</td>\n",
       "      <td>45.000000</td>\n",
       "      <td>0.169452</td>\n",
       "      <td>0.140483</td>\n",
       "      <td>0.171480</td>\n",
       "      <td>0.185503</td>\n",
       "      <td>0.146544</td>\n",
       "      <td>0.179421</td>\n",
       "      <td>0.114313</td>\n",
       "      <td>0.133690</td>\n",
       "      <td>...</td>\n",
       "      <td>0.146948</td>\n",
       "      <td>0.145439</td>\n",
       "      <td>0.125763</td>\n",
       "      <td>0.133139</td>\n",
       "      <td>0.148611</td>\n",
       "      <td>0.134479</td>\n",
       "      <td>0.148893</td>\n",
       "      <td>0.129420</td>\n",
       "      <td>0.134762</td>\n",
       "      <td>3.000000</td>\n",
       "    </tr>\n",
       "    <tr>\n",
       "      <th>75%</th>\n",
       "      <td>5191.750000</td>\n",
       "      <td>76.000000</td>\n",
       "      <td>0.245596</td>\n",
       "      <td>0.202955</td>\n",
       "      <td>0.241323</td>\n",
       "      <td>0.269131</td>\n",
       "      <td>0.192070</td>\n",
       "      <td>0.277772</td>\n",
       "      <td>0.143207</td>\n",
       "      <td>0.162079</td>\n",
       "      <td>...</td>\n",
       "      <td>0.189195</td>\n",
       "      <td>0.201038</td>\n",
       "      <td>0.149199</td>\n",
       "      <td>0.171041</td>\n",
       "      <td>0.207430</td>\n",
       "      <td>0.162134</td>\n",
       "      <td>0.198258</td>\n",
       "      <td>0.162584</td>\n",
       "      <td>0.158424</td>\n",
       "      <td>5.000000</td>\n",
       "    </tr>\n",
       "    <tr>\n",
       "      <th>max</th>\n",
       "      <td>6900.000000</td>\n",
       "      <td>140.000000</td>\n",
       "      <td>0.987671</td>\n",
       "      <td>0.760245</td>\n",
       "      <td>0.764437</td>\n",
       "      <td>0.983779</td>\n",
       "      <td>0.668150</td>\n",
       "      <td>0.970286</td>\n",
       "      <td>0.779277</td>\n",
       "      <td>0.782066</td>\n",
       "      <td>...</td>\n",
       "      <td>0.835639</td>\n",
       "      <td>0.892481</td>\n",
       "      <td>0.867968</td>\n",
       "      <td>0.946030</td>\n",
       "      <td>0.939444</td>\n",
       "      <td>0.896011</td>\n",
       "      <td>0.786905</td>\n",
       "      <td>0.766119</td>\n",
       "      <td>0.835383</td>\n",
       "      <td>6.000000</td>\n",
       "    </tr>\n",
       "  </tbody>\n",
       "</table>\n",
       "<p>8 rows × 73 columns</p>\n",
       "</div>"
      ],
      "text/plain": [
       "                id         area  nd_mean_2021-04-16  nd_mean_2021-04-19  \\\n",
       "count  4830.000000  4830.000000         4830.000000         4830.000000   \n",
       "mean   3474.125492    53.871429            0.169452            0.140483   \n",
       "std    1984.364272    34.191660            0.098733            0.089868   \n",
       "min       1.000000    10.000000            0.000441            0.000222   \n",
       "25%    1774.500000    26.000000            0.089240            0.066971   \n",
       "50%    3489.500000    45.000000            0.169452            0.140483   \n",
       "75%    5191.750000    76.000000            0.245596            0.202955   \n",
       "max    6900.000000   140.000000            0.987671            0.760245   \n",
       "\n",
       "       nd_mean_2021-04-22  nd_mean_2021-04-26  nd_mean_2021-04-28  \\\n",
       "count         4830.000000         4830.000000         4830.000000   \n",
       "mean             0.178529            0.185503            0.146544   \n",
       "std              0.124024            0.109825            0.105534   \n",
       "min              0.000527            0.000390            0.000354   \n",
       "25%              0.083158            0.094366            0.065036   \n",
       "50%              0.171480            0.185503            0.146544   \n",
       "75%              0.241323            0.269131            0.192070   \n",
       "max              0.764437            0.983779            0.668150   \n",
       "\n",
       "       nd_mean_2021-05-02  nd_mean_2021-05-04  nd_mean_2021-05-07  ...  \\\n",
       "count         4830.000000         4830.000000         4830.000000  ...   \n",
       "mean             0.185044            0.114313            0.133690  ...   \n",
       "std              0.131759            0.083859            0.109181  ...   \n",
       "min              0.000267            0.000284            0.000211  ...   \n",
       "25%              0.077021            0.055371            0.057481  ...   \n",
       "50%              0.179421            0.114313            0.133690  ...   \n",
       "75%              0.277772            0.143207            0.162079  ...   \n",
       "max              0.970286            0.779277            0.782066  ...   \n",
       "\n",
       "       nd_mean_2021-05-20  nd_mean_2021-06-04  nd_mean_2021-06-05  \\\n",
       "count         4830.000000         4830.000000         4830.000000   \n",
       "mean             0.183758            0.201038            0.137838   \n",
       "std              0.172158            0.206524            0.140835   \n",
       "min              0.000336            0.000171            0.000207   \n",
       "25%              0.063236            0.062865            0.055047   \n",
       "50%              0.146948            0.145439            0.125763   \n",
       "75%              0.189195            0.201038            0.149199   \n",
       "max              0.835639            0.892481            0.867968   \n",
       "\n",
       "       nd_mean_2021-06-10  nd_mean_2021-07-05  nd_mean_2021-08-13  \\\n",
       "count         4830.000000         4830.000000         4830.000000   \n",
       "mean             0.171041            0.207430            0.148811   \n",
       "std              0.179367            0.214995            0.139996   \n",
       "min              0.000405            0.000261            0.000285   \n",
       "25%              0.056469            0.062351            0.058238   \n",
       "50%              0.133139            0.148611            0.134479   \n",
       "75%              0.171041            0.207430            0.162134   \n",
       "max              0.946030            0.939444            0.896011   \n",
       "\n",
       "       nd_mean_2021-08-27  nd_mean_2021-05-08  nd_mean_2021-05-24         crop  \n",
       "count         4830.000000         4830.000000         4830.000000  4830.000000  \n",
       "mean             0.172921            0.129420            0.147792     2.953830  \n",
       "std              0.149834            0.096913            0.143980     2.004587  \n",
       "min              0.000091            0.000126            0.000203     0.000000  \n",
       "25%              0.062928            0.058067            0.055871     1.000000  \n",
       "50%              0.148893            0.129420            0.134762     3.000000  \n",
       "75%              0.198258            0.162584            0.158424     5.000000  \n",
       "max              0.786905            0.766119            0.835383     6.000000  \n",
       "\n",
       "[8 rows x 73 columns]"
      ]
     },
     "metadata": {},
     "output_type": "display_data"
    },
    {
     "name": "stdout",
     "output_type": "stream",
     "text": [
      "Описательная статистика столбцов object\n",
      "\n"
     ]
    },
    {
     "data": {
      "text/html": [
       "<div>\n",
       "<style scoped>\n",
       "    .dataframe tbody tr th:only-of-type {\n",
       "        vertical-align: middle;\n",
       "    }\n",
       "\n",
       "    .dataframe tbody tr th {\n",
       "        vertical-align: top;\n",
       "    }\n",
       "\n",
       "    .dataframe thead th {\n",
       "        text-align: right;\n",
       "    }\n",
       "</style>\n",
       "<table border=\"1\" class=\"dataframe\">\n",
       "  <thead>\n",
       "    <tr style=\"text-align: right;\">\n",
       "      <th></th>\n",
       "      <th>.geo</th>\n",
       "    </tr>\n",
       "  </thead>\n",
       "  <tbody>\n",
       "    <tr>\n",
       "      <th>count</th>\n",
       "      <td>4830</td>\n",
       "    </tr>\n",
       "    <tr>\n",
       "      <th>unique</th>\n",
       "      <td>4830</td>\n",
       "    </tr>\n",
       "    <tr>\n",
       "      <th>top</th>\n",
       "      <td>{\"type\":\"Polygon\",\"coordinates\":[[[42.49107269...</td>\n",
       "    </tr>\n",
       "    <tr>\n",
       "      <th>freq</th>\n",
       "      <td>1</td>\n",
       "    </tr>\n",
       "  </tbody>\n",
       "</table>\n",
       "</div>"
      ],
      "text/plain": [
       "                                                     .geo\n",
       "count                                                4830\n",
       "unique                                               4830\n",
       "top     {\"type\":\"Polygon\",\"coordinates\":[[[42.49107269...\n",
       "freq                                                    1"
      ]
     },
     "metadata": {},
     "output_type": "display_data"
    },
    {
     "name": "stdout",
     "output_type": "stream",
     "text": [
      "Количество пропусков в каждом столбце\n",
      "\n"
     ]
    },
    {
     "data": {
      "text/plain": [
       "id                    0\n",
       "area                  0\n",
       "nd_mean_2021-04-16    0\n",
       "nd_mean_2021-04-19    0\n",
       "nd_mean_2021-04-22    0\n",
       "                     ..\n",
       "nd_mean_2021-08-13    0\n",
       "nd_mean_2021-08-27    0\n",
       "nd_mean_2021-05-08    0\n",
       "nd_mean_2021-05-24    0\n",
       "crop                  0\n",
       "Length: 74, dtype: int64"
      ]
     },
     "metadata": {},
     "output_type": "display_data"
    },
    {
     "name": "stdout",
     "output_type": "stream",
     "text": [
      "Количество уникальных значений\n",
      "\n"
     ]
    },
    {
     "data": {
      "text/plain": [
       "id                    4830\n",
       "area                   131\n",
       "nd_mean_2021-04-16    4272\n",
       "nd_mean_2021-04-19    4081\n",
       "nd_mean_2021-04-22    4298\n",
       "                      ... \n",
       "nd_mean_2021-08-13    3939\n",
       "nd_mean_2021-08-27    4054\n",
       "nd_mean_2021-05-08    4002\n",
       "nd_mean_2021-05-24    3899\n",
       "crop                     7\n",
       "Length: 74, dtype: int64"
      ]
     },
     "metadata": {},
     "output_type": "display_data"
    },
    {
     "name": "stdout",
     "output_type": "stream",
     "text": [
      "Количество дубликатов\n",
      "\n"
     ]
    },
    {
     "data": {
      "text/plain": [
       "0"
      ]
     },
     "metadata": {},
     "output_type": "display_data"
    }
   ],
   "source": [
    "# проверю что с моим датасетом\n",
    "df_check(df_new_train)"
   ]
  },
  {
   "cell_type": "markdown",
   "metadata": {
    "id": "C1p6g10F4Qg5"
   },
   "source": [
    "NaN заменены, пропусков нет, нулевых значений тоже. Явной зависимости целевого признака не обнаружено."
   ]
  },
  {
   "cell_type": "code",
   "execution_count": 16,
   "metadata": {
    "colab": {
     "base_uri": "https://localhost:8080/"
    },
    "id": "WHYwVeXHJDQc",
    "outputId": "b37fef18-d3fc-48ee-cdbc-3a7294693eca"
   },
   "outputs": [
    {
     "data": {
      "text/plain": [
       "0    726\n",
       "4    718\n",
       "1    700\n",
       "2    697\n",
       "5    668\n",
       "6    666\n",
       "3    655\n",
       "Name: crop, dtype: int64"
      ]
     },
     "execution_count": 16,
     "metadata": {},
     "output_type": "execute_result"
    }
   ],
   "source": [
    "df_new_train['crop'].value_counts()"
   ]
  },
  {
   "cell_type": "markdown",
   "metadata": {
    "id": "MP9DRVyXddXC"
   },
   "source": [
    "Данные сбалансированы."
   ]
  },
  {
   "cell_type": "markdown",
   "metadata": {
    "id": "ONC4rDrsAcnL"
   },
   "source": [
    "## Обучение модели"
   ]
  },
  {
   "cell_type": "markdown",
   "metadata": {
    "id": "BzbGdXCCq2Fy"
   },
   "source": [
    "В качестве признаков буду использовать nd_mean по времени и площадь, а в качестве цели предсказания будет crop - засеянная культура."
   ]
  },
  {
   "cell_type": "code",
   "execution_count": 17,
   "metadata": {
    "id": "C1gSLlT76I3m"
   },
   "outputs": [],
   "source": [
    "X = df_new_train.drop(['.geo', 'crop'], axis = 1)\n",
    "y = df_new_train[['crop']]"
   ]
  },
  {
   "cell_type": "code",
   "execution_count": 18,
   "metadata": {
    "colab": {
     "base_uri": "https://localhost:8080/"
    },
    "id": "mb4dLU9hAmvp",
    "outputId": "c0e24159-19c5-4aac-a3ac-fe6135ecf02b"
   },
   "outputs": [
    {
     "name": "stdout",
     "output_type": "stream",
     "text": [
      "(2898, 72) (966, 72) (966, 72)\n",
      "(2898, 1) (966, 1) (966, 1)\n"
     ]
    }
   ],
   "source": [
    "# разделю данные\n",
    "X_train, X_valid, y_train, y_valid = train_test_split(X, y, test_size=0.4, \n",
    "                                                      random_state=RANDOM_STATE, stratify=y)\n",
    "X_valid, X_test, y_valid, y_test = train_test_split(X_valid, y_valid, test_size=0.5,\n",
    "                                                    random_state=RANDOM_STATE, stratify=y_valid)\n",
    "\n",
    "print(X_train.shape, X_valid.shape, X_test.shape)\n",
    "print(y_train.shape, y_valid.shape, y_test.shape)"
   ]
  },
  {
   "cell_type": "code",
   "execution_count": 19,
   "metadata": {
    "colab": {
     "base_uri": "https://localhost:8080/"
    },
    "id": "5Q1P9nNAMEOz",
    "outputId": "f0fe351c-ce93-4cf1-9cd9-f1dc767b95e2"
   },
   "outputs": [
    {
     "data": {
      "text/plain": [
       "crop\n",
       "0       726\n",
       "4       718\n",
       "1       700\n",
       "2       697\n",
       "5       668\n",
       "6       666\n",
       "3       655\n",
       "dtype: int64"
      ]
     },
     "execution_count": 19,
     "metadata": {},
     "output_type": "execute_result"
    }
   ],
   "source": [
    "y.value_counts()"
   ]
  },
  {
   "cell_type": "code",
   "execution_count": 20,
   "metadata": {
    "id": "0oAhgktG4vue"
   },
   "outputs": [],
   "source": [
    "# стандартизация данных\n",
    "ss = StandardScaler()\n",
    "X_train_scaled = ss.fit_transform(X_train)\n",
    "X_test_scaled = ss.transform(X_test)\n",
    "X_valid_scaled = ss.transform(X_valid)\n",
    "y_train_ss = np.array(y_train)\n",
    "y_test_ss = np.array(y_test)\n",
    "\n",
    "# для нейронки\n",
    "y_train_nero = utils.to_categorical(y_train)\n",
    "y_test_nero = utils.to_categorical(y_test)\n",
    "y_valid_nero = utils.to_categorical(y_valid)"
   ]
  },
  {
   "cell_type": "code",
   "execution_count": 21,
   "metadata": {
    "id": "0if7fgduvny7"
   },
   "outputs": [],
   "source": [
    "# обучение моделей\n",
    "model_rfc = RandomForestClassifier(n_estimators = 100, random_state=RANDOM_STATE)\n",
    "model_knc = KNeighborsClassifier()\n",
    "model_lr = LogisticRegression(verbose=1, n_jobs=-1, random_state=RANDOM_STATE) \n",
    "model_svc = svm.SVC(random_state=RANDOM_STATE)\n",
    "model_HGBGT = HistGradientBoostingClassifier(loss='categorical_crossentropy',\n",
    "                                             max_iter=2000, random_state=RANDOM_STATE)\n",
    "model_LGBM = LGBMClassifier(random_state=RANDOM_STATE)\n",
    "model_xgb_cl = xgb.XGBClassifier(random_state=RANDOM_STATE)\n"
   ]
  },
  {
   "cell_type": "code",
   "execution_count": 22,
   "metadata": {
    "colab": {
     "base_uri": "https://localhost:8080/"
    },
    "id": "uix9h5nc0zFk",
    "outputId": "603bb4fd-dc93-4aaf-a61f-17a5c289f9be"
   },
   "outputs": [
    {
     "name": "stderr",
     "output_type": "stream",
     "text": [
      "[Parallel(n_jobs=-1)]: Using backend LokyBackend with 8 concurrent workers.\n",
      "[Parallel(n_jobs=-1)]: Done   1 out of   1 | elapsed:    4.1s finished\n"
     ]
    },
    {
     "name": "stdout",
     "output_type": "stream",
     "text": [
      "CPU times: total: 2min 48s\n",
      "Wall time: 32 s\n"
     ]
    }
   ],
   "source": [
    "%%time\n",
    "model_rfc.fit(X_train_scaled, np.ravel(y_train_ss, order='C'))\n",
    "pred_rfc = model_rfc.predict(X_test_scaled)\n",
    "\n",
    "model_knc.fit(X_train_scaled, np.ravel(y_train_ss, order='C'))\n",
    "pred_knc = model_knc.predict(X_test_scaled)\n",
    "\n",
    "model_lr.fit(X_train_scaled, np.ravel(y_train_ss, order='C'))\n",
    "pred_lr = model_lr.predict(X_test_scaled)\n",
    "\n",
    "model_svc.fit(X_train_scaled, np.ravel(y_train_ss, order='C'))\n",
    "pred_svc = model_svc.predict(X_test_scaled)\n",
    "\n",
    "model_HGBGT.fit(X_train_scaled, np.ravel(y_train_ss, order='C'))\n",
    "pred_HGBGT = model_HGBGT.predict(X_test_scaled)\n",
    "\n",
    "model_LGBM.fit(X_train_scaled, np.ravel(y_train_ss, order='C'))\n",
    "pred_LGBM = model_LGBM.predict(X_test_scaled)\n",
    "\n",
    "model_xgb_cl.fit(X_train_scaled, np.ravel(y_train_ss, order='C'))\n",
    "pred_xgb_cl = model_xgb_cl.predict(X_test_scaled)\n"
   ]
  },
  {
   "cell_type": "markdown",
   "metadata": {
    "id": "uK1cHbHu1QQa"
   },
   "source": [
    "По условию задачи метрика, по которой определяется эффективность модели, - это recall, поэтому приведу эту метрику для каждой модели."
   ]
  },
  {
   "cell_type": "code",
   "execution_count": 23,
   "metadata": {
    "colab": {
     "base_uri": "https://localhost:8080/"
    },
    "id": "HlvMqxFx0m2Q",
    "outputId": "968dc34e-ad63-441d-af12-1e0ddf4bb439"
   },
   "outputs": [
    {
     "name": "stdout",
     "output_type": "stream",
     "text": [
      "RandomForestClassifier(random_state=12345) \n",
      " 0.9508829145357914\n",
      "KNeighborsClassifier() \n",
      " 0.9120313955237566\n",
      "LogisticRegression(n_jobs=-1, random_state=12345, verbose=1) \n",
      " 0.9226043920874523\n",
      "SVC(random_state=12345) \n",
      " 0.9481542586253806\n",
      "HistGradientBoostingClassifier(loss='categorical_crossentropy', max_iter=2000,\n",
      "                               random_state=12345) \n",
      " 0.9603575068016996\n",
      "LGBMClassifier(random_state=12345) \n",
      " 0.961364427885995\n",
      "XGBClassifier(base_score=0.5, booster='gbtree', callbacks=None,\n",
      "              colsample_bylevel=1, colsample_bynode=1, colsample_bytree=1,\n",
      "              early_stopping_rounds=None, enable_categorical=False,\n",
      "              eval_metric=None, feature_types=None, gamma=0, gpu_id=-1,\n",
      "              grow_policy='depthwise', importance_type=None,\n",
      "              interaction_constraints='', learning_rate=0.300000012,\n",
      "              max_bin=256, max_cat_threshold=64, max_cat_to_onehot=4,\n",
      "              max_delta_step=0, max_depth=6, max_leaves=0, min_child_weight=1,\n",
      "              missing=nan, monotone_constraints='()', n_estimators=100,\n",
      "              n_jobs=0, num_parallel_tree=1, objective='multi:softprob',\n",
      "              predictor='auto', ...) \n",
      " 0.9613394210386266\n"
     ]
    }
   ],
   "source": [
    "print(model_rfc,'\\n', recall_score(y_test_ss, pred_rfc, average=\"macro\", zero_division=0))\n",
    "print(model_knc,'\\n', recall_score(y_test_ss, pred_knc, average=\"macro\", zero_division=0))\n",
    "print(model_lr,'\\n', recall_score(y_test_ss, pred_lr, average=\"macro\", zero_division=0))\n",
    "print(model_svc,'\\n', recall_score(y_test_ss, pred_svc, average=\"macro\", zero_division=0))\n",
    "print(model_HGBGT,'\\n', recall_score(y_test_ss, pred_HGBGT, average=\"macro\", zero_division=0))\n",
    "print(model_LGBM,'\\n', recall_score(y_test_ss, pred_LGBM, average=\"macro\", zero_division=0))\n",
    "print(model_xgb_cl,'\\n', recall_score(y_test_ss, pred_xgb_cl, average=\"macro\", zero_division=0))"
   ]
  },
  {
   "cell_type": "markdown",
   "metadata": {
    "id": "Sz8G2-x0GLu3"
   },
   "source": [
    "Лучшей моделью себя показала HistGradientBoostingClassifier. (Я участвовал на Всероссийском соревновании и очень много тестировал, разные модели с разными параметрами и xgb и lgbm проигрывали в результатах, но именно сейчас показали свои лучшие результаты, но итогом я возьму model_HGBGT) Проверю на валидационной выборке"
   ]
  },
  {
   "cell_type": "code",
   "execution_count": 24,
   "metadata": {
    "colab": {
     "base_uri": "https://localhost:8080/"
    },
    "id": "0J4ryUHMlrI_",
    "outputId": "b18ddf5e-efe7-4222-dabe-3e07b0f36fee",
    "scrolled": true
   },
   "outputs": [
    {
     "name": "stdout",
     "output_type": "stream",
     "text": [
      "HistGradientBoostingClassifier(loss='categorical_crossentropy', max_iter=2000,\n",
      "                               random_state=12345) \n",
      " 0.9691789062984828\n"
     ]
    }
   ],
   "source": [
    "pred_HGBGT_valid = model_HGBGT.predict(X_valid_scaled)\n",
    "print(model_HGBGT,'\\n', recall_score(y_valid, pred_HGBGT_valid, average=\"macro\", zero_division=0))"
   ]
  },
  {
   "cell_type": "code",
   "execution_count": 25,
   "metadata": {},
   "outputs": [
    {
     "name": "stdout",
     "output_type": "stream",
     "text": [
      "LGBMClassifier(random_state=12345) \n",
      " 0.9641367350295634\n"
     ]
    }
   ],
   "source": [
    "pred_model_LGBM_valid = model_LGBM.predict(X_valid_scaled)\n",
    "print(model_LGBM,'\\n', recall_score(y_valid, pred_model_LGBM_valid, average=\"macro\", zero_division=0))"
   ]
  },
  {
   "cell_type": "code",
   "execution_count": 26,
   "metadata": {},
   "outputs": [
    {
     "name": "stdout",
     "output_type": "stream",
     "text": [
      "XGBClassifier(base_score=0.5, booster='gbtree', callbacks=None,\n",
      "              colsample_bylevel=1, colsample_bynode=1, colsample_bytree=1,\n",
      "              early_stopping_rounds=None, enable_categorical=False,\n",
      "              eval_metric=None, feature_types=None, gamma=0, gpu_id=-1,\n",
      "              grow_policy='depthwise', importance_type=None,\n",
      "              interaction_constraints='', learning_rate=0.300000012,\n",
      "              max_bin=256, max_cat_threshold=64, max_cat_to_onehot=4,\n",
      "              max_delta_step=0, max_depth=6, max_leaves=0, min_child_weight=1,\n",
      "              missing=nan, monotone_constraints='()', n_estimators=100,\n",
      "              n_jobs=0, num_parallel_tree=1, objective='multi:softprob',\n",
      "              predictor='auto', ...) \n",
      " 0.9592455445444197\n"
     ]
    }
   ],
   "source": [
    "pred_model_xgb_cl_valid = model_xgb_cl.predict(X_valid_scaled)\n",
    "print(model_xgb_cl,'\\n', recall_score(y_valid, pred_model_xgb_cl_valid, average=\"macro\", zero_division=0))"
   ]
  },
  {
   "cell_type": "markdown",
   "metadata": {
    "id": "ZOOO6gI3vDvR"
   },
   "source": [
    "Результат на валидационной выборке даже чуть лучше, чем ожидалось."
   ]
  },
  {
   "cell_type": "markdown",
   "metadata": {
    "id": "F5Ff4_iTvKnB"
   },
   "source": [
    "На соревновании (итоги были подведены 20.11.2022 в 15:00 МСК) (занял 78 место из 236) и поэтому там был свой способ тестирования моделей и моя \"моделька\" на их тестовых данных (привате) показала recall = 0.969236."
   ]
  },
  {
   "cell_type": "markdown",
   "metadata": {
    "id": "p_rego_Vz-z4"
   },
   "source": [
    "![2022-11-20_16-51-23.png](data:image/png;base64,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)"
   ]
  },
  {
   "cell_type": "markdown",
   "metadata": {
    "id": "g14Q0qL6mNvx"
   },
   "source": [
    "### Нейронная сеть для множественной классификации"
   ]
  },
  {
   "cell_type": "markdown",
   "metadata": {
    "id": "Mt0rDEHP2m_e"
   },
   "source": [
    "**Спойлер**\n",
    "\n",
    "В рамках задачи соревнования нейронки давали не очень хороший результат. Но в рамках задачи курса будет добавлена модель нейронной сети"
   ]
  },
  {
   "cell_type": "code",
   "execution_count": 27,
   "metadata": {
    "colab": {
     "base_uri": "https://localhost:8080/",
     "height": 1000
    },
    "id": "JAPkPV-OmP_c",
    "outputId": "6540932b-1aed-4b7d-c5c7-66bca44864e5",
    "scrolled": true
   },
   "outputs": [
    {
     "name": "stdout",
     "output_type": "stream",
     "text": [
      "Epoch 1/30\n",
      "322/322 [==============================] - 2s 4ms/step - loss: 0.4743 - categorical_accuracy: 0.8309\n",
      "Epoch 2/30\n",
      "322/322 [==============================] - 1s 4ms/step - loss: 0.2312 - categorical_accuracy: 0.9151\n",
      "Epoch 3/30\n",
      "322/322 [==============================] - 1s 4ms/step - loss: 0.1851 - categorical_accuracy: 0.9331\n",
      "Epoch 4/30\n",
      "322/322 [==============================] - 1s 4ms/step - loss: 0.1373 - categorical_accuracy: 0.9555\n",
      "Epoch 5/30\n",
      "322/322 [==============================] - 1s 4ms/step - loss: 0.1244 - categorical_accuracy: 0.9617\n",
      "Epoch 6/30\n",
      "322/322 [==============================] - 1s 4ms/step - loss: 0.0791 - categorical_accuracy: 0.9727\n",
      "Epoch 7/30\n",
      "322/322 [==============================] - 1s 4ms/step - loss: 0.0780 - categorical_accuracy: 0.9727\n",
      "Epoch 8/30\n",
      "322/322 [==============================] - 1s 4ms/step - loss: 0.0541 - categorical_accuracy: 0.9827\n",
      "Epoch 9/30\n",
      "322/322 [==============================] - 1s 5ms/step - loss: 0.0473 - categorical_accuracy: 0.9862\n",
      "Epoch 10/30\n",
      "322/322 [==============================] - 1s 4ms/step - loss: 0.0740 - categorical_accuracy: 0.9755\n",
      "Epoch 11/30\n",
      "322/322 [==============================] - 1s 4ms/step - loss: 0.0684 - categorical_accuracy: 0.9807\n",
      "Epoch 12/30\n",
      "322/322 [==============================] - 1s 4ms/step - loss: 0.0579 - categorical_accuracy: 0.9803\n",
      "Epoch 13/30\n",
      "322/322 [==============================] - 1s 4ms/step - loss: 0.0429 - categorical_accuracy: 0.9876\n",
      "Epoch 14/30\n",
      "322/322 [==============================] - 1s 4ms/step - loss: 0.0555 - categorical_accuracy: 0.9831\n",
      "Epoch 15/30\n",
      "322/322 [==============================] - 1s 4ms/step - loss: 0.0618 - categorical_accuracy: 0.9855\n",
      "Epoch 16/30\n",
      "322/322 [==============================] - 1s 4ms/step - loss: 0.0392 - categorical_accuracy: 0.9907\n",
      "Epoch 17/30\n",
      "322/322 [==============================] - 1s 4ms/step - loss: 0.0340 - categorical_accuracy: 0.9914\n",
      "Epoch 18/30\n",
      "322/322 [==============================] - 1s 4ms/step - loss: 0.0211 - categorical_accuracy: 0.9938\n",
      "Epoch 19/30\n",
      "322/322 [==============================] - 1s 4ms/step - loss: 0.0289 - categorical_accuracy: 0.9914\n",
      "Epoch 20/30\n",
      "322/322 [==============================] - 1s 4ms/step - loss: 0.0215 - categorical_accuracy: 0.9934\n",
      "Epoch 21/30\n",
      "322/322 [==============================] - 1s 5ms/step - loss: 0.0291 - categorical_accuracy: 0.9952\n",
      "Epoch 22/30\n",
      "322/322 [==============================] - 1s 4ms/step - loss: 0.0238 - categorical_accuracy: 0.9914\n",
      "Epoch 23/30\n",
      "322/322 [==============================] - 1s 4ms/step - loss: 0.0328 - categorical_accuracy: 0.9903\n",
      "Epoch 24/30\n",
      "322/322 [==============================] - 1s 4ms/step - loss: 0.0384 - categorical_accuracy: 0.9859\n",
      "Epoch 25/30\n",
      "322/322 [==============================] - 1s 4ms/step - loss: 0.0732 - categorical_accuracy: 0.9879\n",
      "Epoch 26/30\n",
      "322/322 [==============================] - 1s 4ms/step - loss: 0.0142 - categorical_accuracy: 0.9955\n",
      "Epoch 27/30\n",
      "322/322 [==============================] - 1s 4ms/step - loss: 0.0334 - categorical_accuracy: 0.9921\n",
      "Epoch 28/30\n",
      "322/322 [==============================] - 1s 4ms/step - loss: 0.0158 - categorical_accuracy: 0.9969\n",
      "Epoch 29/30\n",
      "322/322 [==============================] - 1s 4ms/step - loss: 0.0526 - categorical_accuracy: 0.9862\n",
      "Epoch 30/30\n",
      "322/322 [==============================] - 1s 4ms/step - loss: 0.0499 - categorical_accuracy: 0.9917\n"
     ]
    },
    {
     "data": {
      "image/png": "[encoded data removed]",
      "text/plain": [
       "<Figure size 432x288 with 1 Axes>"
      ]
     },
     "metadata": {
      "needs_background": "light"
     },
     "output_type": "display_data"
    }
   ],
   "source": [
    "#модель\n",
    "model_nero = Sequential()\n",
    "\n",
    "#входные полносвязные слои\n",
    "model_nero.add(Dense(720, input_dim=72, activation='relu'))\n",
    "model_nero.add(Dropout(0.3))\n",
    "model_nero.add(Dense(360, activation='relu'))\n",
    "model_nero.add(Dropout(0.2))\n",
    "model_nero.add(Dense(72, activation='relu'))\n",
    "model_nero.add(Dropout(0.1))\n",
    "\n",
    "\n",
    "#выходной полносвязный слой\n",
    "model_nero.add(Dense(7, activation='softmax'))\n",
    "\n",
    "model_nero.compile(loss='categorical_crossentropy', optimizer='adam', metrics=['categorical_accuracy'])\n",
    "\n",
    "n = 30000\n",
    "\n",
    "history = model_nero.fit(X_train_scaled[:n],\n",
    "                    y_train_nero[:n],\n",
    "                    batch_size = 9,\n",
    "                    epochs = 30,\n",
    "                    validation_data = (X_train_scaled[n:], y_train_nero[n:]))\n",
    "\n",
    "plt.plot(history.history['categorical_accuracy'],\n",
    "         label = 'Точность train')\n",
    "plt.xlabel('эпоха')\n",
    "plt.ylabel('точность')\n",
    "plt.legend()\n",
    "plt.show()"
   ]
  },
  {
   "cell_type": "code",
   "execution_count": 28,
   "metadata": {
    "colab": {
     "base_uri": "https://localhost:8080/"
    },
    "id": "oXNSU6danOVU",
    "outputId": "a5cf97a5-27ad-42b8-811c-0cb879becd71"
   },
   "outputs": [
    {
     "name": "stdout",
     "output_type": "stream",
     "text": [
      "31/31 [==============================] - 0s 3ms/step\n",
      "[[121   0   1   0  11   0  12]\n",
      " [  1 138   0   0   1   0   0]\n",
      " [  0   0 130   1   4   1   3]\n",
      " [  0   0   0 131   0   0   0]\n",
      " [  7   0   0   1 131   0   5]\n",
      " [  1   0   0   0   0 133   0]\n",
      " [  4   1   2   2   1   1 122]]\n"
     ]
    }
   ],
   "source": [
    "pred_nero = model_nero.predict(X_test_scaled)\n",
    "pred_nero1 = np.argmax(pred_nero, axis=1)\n",
    "y_test_nero = np.argmax(y_test_nero, axis=1)\n",
    "cm = confusion_matrix(y_test_nero, pred_nero1)\n",
    "print(cm)"
   ]
  },
  {
   "cell_type": "code",
   "execution_count": 29,
   "metadata": {
    "colab": {
     "base_uri": "https://localhost:8080/"
    },
    "id": "artYpw2mnTPD",
    "outputId": "e3fc986d-2192-4f0e-c656-3c285fc75940"
   },
   "outputs": [
    {
     "name": "stdout",
     "output_type": "stream",
     "text": [
      "0.9392859445191274\n"
     ]
    }
   ],
   "source": [
    "print(recall_score(y_test_nero, pred_nero1, average=\"macro\", zero_division=0))"
   ]
  },
  {
   "cell_type": "markdown",
   "metadata": {
    "id": "KTedsSG1osGH"
   },
   "source": [
    "Результат конечно ниже, чем у модели представленной ранее model_HGBGT поэтому создавать приложение буду по ней."
   ]
  },
  {
   "cell_type": "markdown",
   "metadata": {
    "id": "ymYXIi-r6S1-"
   },
   "source": [
    "**Сохраню модель**"
   ]
  },
  {
   "cell_type": "code",
   "execution_count": 30,
   "metadata": {
    "id": "G7Xrb5gr6ZNU"
   },
   "outputs": [],
   "source": [
    " import pickle \n",
    "\n",
    " pkl_filename = \"model_HGBGT.pkl\" \n",
    " with open(pkl_filename, 'wb') as file:\n",
    "        pickle.dump(model_HGBGT, file) \n",
    " \n",
    " # Load from file \n",
    " with open(pkl_filename, 'rb') as file:\n",
    "    pickle_model = pickle.load(file) \n"
   ]
  }
 ],
 "metadata": {
  "accelerator": "GPU",
  "colab": {
   "provenance": []
  },
  "gpuClass": "standard",
  "kernelspec": {
   "display_name": "Python 3 (ipykernel)",
   "language": "python",
   "name": "python3"
  },
  "language_info": {
   "codemirror_mode": {
    "name": "ipython",
    "version": 3
   },
   "file_extension": ".py",
   "mimetype": "text/x-python",
   "name": "python",
   "nbconvert_exporter": "python",
   "pygments_lexer": "ipython3",
   "version": "3.9.12"
  }
 },
 "nbformat": 4,
 "nbformat_minor": 1
}
